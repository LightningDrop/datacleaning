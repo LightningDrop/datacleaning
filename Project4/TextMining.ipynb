{
 "cells": [
  {
   "cell_type": "code",
   "execution_count": null,
   "metadata": {},
   "outputs": [],
   "source": [
    "import pandas as pd\n",
    "from sklearn.feature_extraction.text import TfidfVectorizer\n",
    "\n",
    "documentA = [ 'Now for manners use has company believe parlors.',\n",
    "'Least nor party who wrote while did. Excuse formed as is agreed admire so on result parish.',\n",
    "'Put use set uncommonly announcing and travelling. Allowance sweetness direction to as necessary.',\n",
    "'Principle oh explained excellent do my suspected conveying in.',\n",
    "'Excellent you did therefore perfectly supposing described. ',\n",
    "'Its had resolving otherwise she contented therefore.',\n",
    "'Afford relied warmth out sir hearts sister use garden.',\n",
    "'Men day warmth formed admire former simple.',\n",
    "'Humanity declared vicinity continue supplied no an. He hastened am no property exercise of. ' ,\n",
    "'Dissimilar comparison no terminated devonshire no literature on. Say most yet head room such just easy. ']"
   ]
  },
  {
   "cell_type": "code",
   "execution_count": null,
   "metadata": {},
   "outputs": [],
   "source": [
    "tf_idf_vect = TfidfVectorizer()\n",
    "X_train_tf_idf = tf_idf_vect.fit_transform(documentA)\n",
    "terms = tf_idf_vect.get_feature_names()\n",
    "\n",
    "print(\"The count vector: \" + terms[0])\n",
    "print(\"The count tfdif vector: \" +terms(1))"
   ]
  }
 ],
 "metadata": {
  "language_info": {
   "name": "python"
  },
  "orig_nbformat": 4
 },
 "nbformat": 4,
 "nbformat_minor": 2
}
