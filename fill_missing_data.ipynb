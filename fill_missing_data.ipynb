{
 "cells": [
  {
   "cell_type": "code",
   "execution_count": null,
   "metadata": {},
   "outputs": [],
   "source": [
    "import pandas as pd     # importing pandas\n",
    "\n",
    "# Storing candy data to csv file\n",
    "# Data passed in here should be normalized\n",
    "file = pd.read_csv('./candydata_initial_clean.csv',encoding = \"ISO-8859-1\")\n",
    "file.head()"
   ]
  },
  {
   "cell_type": "markdown",
   "metadata": {},
   "source": [
    "## Replacing missing values options\n",
    "---\n",
    "### Replace with meh\n",
    "    > file[index] = file[index].fillna(1)\n",
    "- Decided upon this for candy sections because mean would not work for our categorical needs\n",
    "\n",
    "### Replace with new value\n",
    "    > file[index] = file[index].fillna(2)\n",
    "- Decided upon this for gender and location\n",
    "\n",
    "### Replace with mean\n",
    "    > To use/do mean, make sure that data is in int\n",
    "    > file[index] = file[index].fillna(file[index].mean())\n",
    "- Decided upon this for age"
   ]
  },
  {
   "cell_type": "code",
   "execution_count": null,
   "metadata": {},
   "outputs": [],
   "source": [
    "# This for loop loops through every column in the data set\n",
    "for index in file.columns:\n",
    "    if index == 'Q2: GENDER':\n",
    "        # Gender fill in | Creating a third option of other/nan\n",
    "        file[index] = file[index].fillna(2)\n",
    "    elif index == 'Q3: AGE':\n",
    "        # Age fill in | Age must be normalized for this to work (no strings)\n",
    "        file[index] = file[index].fillna(file[index].mean())\n",
    "        pass\n",
    "    elif index == 'Q4: COUNTRY' or index == 'Q5: STATE, PROVINCE, COUNTY, ETC':\n",
    "        # Country & State/Province fill in | Creating a third option of other/nan\n",
    "        file[index] = file[index].fillna(0)  \n",
    "    else: # If it is in the candy column\n",
    "        file[index] = file[index].fillna(1)\n",
    "\n",
    "file.head()"
   ]
  },
  {
   "cell_type": "markdown",
   "metadata": {},
   "source": [
    "### Output\n",
    "---\n",
    "The code above goes through each column and runs the respective fillna() function.\n",
    "- Missing genders fields are given a new value\n",
    "- Missing age fields are replaced with the mean of the column\n",
    "- Missing location fields are given a new value\n",
    "- Missing candy fields are given a 'meh' rating"
   ]
  }
 ],
 "metadata": {
  "interpreter": {
   "hash": "56794fb549312e2924d86ee0e35d44ab95b93815fa84044d4ee11b78b7de2e26"
  },
  "kernelspec": {
   "display_name": "Python 3.9.7 ('base')",
   "language": "python",
   "name": "python3"
  },
  "language_info": {
   "codemirror_mode": {
    "name": "ipython",
    "version": 3
   },
   "file_extension": ".py",
   "mimetype": "text/x-python",
   "name": "python",
   "nbconvert_exporter": "python",
   "pygments_lexer": "ipython3",
   "version": "3.9.7"
  },
  "orig_nbformat": 4
 },
 "nbformat": 4,
 "nbformat_minor": 2
}
