{
 "cells": [
  {
   "cell_type": "code",
   "execution_count": 1,
   "metadata": {},
   "outputs": [],
   "source": [
    "import pandas as pd\n",
    "import numpy as np\n",
    "from sklearn import preprocessing\n",
    "import json\n",
    "\n",
    "file = pd.read_csv('./data/candyhierarchy2017.csv', encoding = \"ISO-8859-1\")"
   ]
  },
  {
   "cell_type": "code",
   "execution_count": 2,
   "metadata": {},
   "outputs": [],
   "source": [
    "# import pandas as pd\n",
    "# import numpy as np\n",
    "\n",
    "# data = pd.read_csv('./data/candyhierarchy2017.csv', encoding = \"ISO-8859-1\")\n",
    "\n",
    "# for index in data.columns:\n",
    "#     data[index] = data[index].replace(['MEH', 'JOY', 'DESPAIR'], ['1', '2', '0'])\n",
    "\n",
    "# print(data)"
   ]
  },
  {
   "cell_type": "code",
   "execution_count": 3,
   "metadata": {},
   "outputs": [],
   "source": [
    "def encode_text_index(df, name):\n",
    "    le = preprocessing.LabelEncoder()\n",
    "    df[name] = le.fit_transform(df[name])\n",
    "    return le.classes_"
   ]
  },
  {
   "cell_type": "code",
   "execution_count": 4,
   "metadata": {},
   "outputs": [],
   "source": [
    "y = [\"Internal ID\", \"Q1: GOING OUT?\", \n",
    "\"Q6 | Anonymous brown globs that come in black and orange wrappers\t(a.k.a. Mary Janes)\", \n",
    "\"Q6 | Any full-sized candy bar\", \"Q6 | Bonkers (the board game)\",\n",
    "\"Q6 | Candy that is clearly just the stuff given out for free at restaurants\", \n",
    "\"Q6 | Cash, or other forms of legal tender\",\"Q6 | Chick-o-Sticks (we donÕt know what that is)\",\n",
    "\"Q6 | Creepy Religious comics/Chick Tracts\", \"Q6 | Dental paraphenalia\", \n",
    "\"Q6 | Generic Brand Acetaminophen\", \"Q6 | Glow sticks\", \"Q6 | Gum from baseball cards\",\n",
    "\"Q6 | Gummy Bears straight up\", \"Q6 | HersheyÕs Milk Chocolate\", \"Q6 | Hugs (actual physical hugs)\",\n",
    "\"Q6 | Jolly Rancher (bad flavor)\", \"Q6 | JoyJoy (Mit Iodine!)\", \"Q6 | Senior Mints\",\n",
    "\"Q6 | Kale smoothie\", \"Q6 | Abstained from M&M'ing.\", \"Q6 | Pencils\", \"Q6 | Real Housewives of Orange County Season 9 Blue-Ray\",\n",
    "\"Q6 | ReeseÕs Peanut Butter Cups\", \"Q6 | Sandwich-sized bags filled with BooBerry Crunch\",\n",
    "\"Q6 | Those odd marshmallow circus peanut things\", \"Q6 | Tolberone something or other\", \n",
    "\"Q6 | Vials of pure high fructose corn syrup, for main-lining into your vein\", \n",
    "\"Q6 | Vicodin\", \"Q6 | White Bread\", \"Q6 | Whole Wheat anything\", \"Q7: JOY OTHER\", \"Q8: DESPAIR OTHER\", \"Q9: OTHER COMMENTS\", \"Q10: DRESS\", \n",
    "\"Unnamed: 113\", \"Q11: DAY\", \"Q12: MEDIA [Daily Dish]\", \"Q12: MEDIA [Science]\", \"Q12: MEDIA [ESPN]\", \n",
    "\"Q12: MEDIA [Yahoo]\", \"Click Coordinates (x, y)\"]\n",
    "\n",
    "file = file.drop(columns=y)\n",
    "file = file.dropna(how='all')"
   ]
  },
  {
   "cell_type": "code",
   "execution_count": 5,
   "metadata": {},
   "outputs": [
    {
     "data": {
      "text/plain": [
       "CA                           305\n",
       "NY                           120\n",
       "WA                           112\n",
       "IL                           104\n",
       "TX                            95\n",
       "                            ... \n",
       "CALIFOR                        1\n",
       "BROOKLYN, KINGS COUNTY NY      1\n",
       "KING COUNTY, WASHINGTON        1\n",
       "WASHINGTON, ISLAND COUNTY      1\n",
       "PSYCHOTIC                      1\n",
       "Name: Q5: STATE, PROVINCE, COUNTY, ETC, Length: 277, dtype: int64"
      ]
     },
     "execution_count": 5,
     "metadata": {},
     "output_type": "execute_result"
    }
   ],
   "source": [
    "unit_dict = np.load('dictionary.npy',allow_pickle='TRUE').item()\n",
    "unit_dict =  {k.upper(): v for k, v in unit_dict.items()}\n",
    "file['Q5: STATE, PROVINCE, COUNTY, ETC'] = file['Q5: STATE, PROVINCE, COUNTY, ETC'].str.upper()\n",
    "file['Q5: STATE, PROVINCE, COUNTY, ETC'] = file['Q5: STATE, PROVINCE, COUNTY, ETC'].map(unit_dict).fillna(file['Q5: STATE, PROVINCE, COUNTY, ETC'])\n",
    "file['Q5: STATE, PROVINCE, COUNTY, ETC'].value_counts()"
   ]
  },
  {
   "cell_type": "code",
   "execution_count": 7,
   "metadata": {},
   "outputs": [
    {
     "data": {
      "text/plain": [
       "array(['1', '48', 'A', 'AB', 'ABERDEENSHIRE', 'ABU DHABI', 'AK', 'AL',\n",
       "       'ALAMEDA COUNTY, CALIFORNIA', 'ALASKA, MATANUSKA-SUSITNA BOROUGH',\n",
       "       'ALBEQRRTA', 'AMERICA', 'AR', 'ARIZONA ', 'ARLINGTON, VA',\n",
       "       'ATLANTA, GA', 'AZ', 'BAJA CALIFORNIA', 'BC', 'BERKELEY, CA',\n",
       "       'BERLIN', 'BLOOMINGTON, IN', 'BRISTOL ',\n",
       "       'BRISTOL COUNTY, RHODE ISLAND', 'BRITISH COLUMBIA ',\n",
       "       'BRITISH COLUMBIA, CANADA', 'BROOKLYN',\n",
       "       'BROOKLYN, KINGS COUNTY NY', 'BUNCOMBE COUNTY, NORTH CAROLINA',\n",
       "       'CA', 'CAILIFORNIA', 'CALIF', 'CALIFOR', 'CALIFORMIA',\n",
       "       'CALIFORNIA, CONTRA COSTA COUNTY, PLEASANT HILL',\n",
       "       'CALIFORNIA, MENDOCINO COUNTY', 'CALIFORNIA, SAN DIEGO',\n",
       "       'CALIFORNIA, SAN DIEGO COUNTY', 'CALIFORNIA, SAN FRANCISCO',\n",
       "       'CALIFORNIA, USA', 'CALIFORNIA, VENTURA COUNTY', 'CANADA',\n",
       "       'CARVER COUNTY, MN', 'CASCADIA', 'CDMX', 'CHICAGO', 'CHICAGO, IL',\n",
       "       'CHICAGO, IL ', 'CO', 'COLORADO (CO)', 'COLORADO LARIMER COUNTY',\n",
       "       'COLORADO, BOULDER', 'CONNECTICUT ', 'COOK', 'CT',\n",
       "       'CUYAHOGA COUNTY, OHIO', 'DC', 'DC ', 'DE', 'DERBYSHIRE',\n",
       "       'DEVONSHIRE', 'DONA ANA COUNTY, NEW MEXICO', 'DUBLIN', 'DUBLIN ',\n",
       "       'DURHAM COUNTY, NORTH CAROLINA', 'DUTCHESS COUNTY NY', 'EDINBURGH',\n",
       "       'EMERALD CITY, PETROLIA', 'FIFE, SCOTLAND', 'FL', 'FL ',\n",
       "       'FLORIDA ', 'GA', 'GA - GEORGIA', 'GEORGIA ', 'GLASGOW',\n",
       "       'GLASGOW ', 'GLENDORA, LOS ANGELES, CALIFORNIA', 'GREATER LONDON',\n",
       "       'GREATER MANCHESTER', 'GREIFSWALD', 'HENRICO, VA', 'HESSE',\n",
       "       'HESSEN', 'HI', 'HONG KONG', 'IA', 'ID', 'IDF', 'IL', 'ILL',\n",
       "       'ILLINOIS  ', 'IN', 'INDIANA ', 'ISSAQUAH, WA, KING COUNTY ',\n",
       "       'JAKARTA', 'KALAMAZOO COUNTY, MI', 'KANAGAWA ', 'KENT',\n",
       "       'KENTUCKY ', 'KILDARE', 'KING COUNTY, WASHINGTON',\n",
       "       'KINGS, NEW YORK ', 'KS', 'KWAZULU-NATAL', 'KY', 'LA', 'LANCASIRE',\n",
       "       'LONDOM', 'LONDON', 'MA', 'MADRID', 'MANCHESTER', 'MANITOBA ',\n",
       "       'MANNHEIM, BADEN-W\\x9fRTTEMBERG ', 'MARIETTA, GA', 'MARNE',\n",
       "       'MARYLAND ', 'MASSACHUSSETS ', 'MB', 'MD', 'MD ', 'ME', 'MERLIN',\n",
       "       'MEXICO CITY', 'MI', 'MICH', 'MICHIGIN', 'MIDLOTHIAN', 'MISSOURE',\n",
       "       'MISSOURI, MILLER COUNTY', 'MN', 'MO', 'MONROE COUNTY', 'MS', 'MT',\n",
       "       'MUNSTER', 'N-BRABANT', 'NA', 'NB', 'NC', 'ND', 'NE',\n",
       "       'NEW JERSEY ', 'NEW MEXICO, USA', 'NEW ORLEANS LA ',\n",
       "       'NEW YORK COUNTY, NEW YORK CITY, NEW YORK STATE',\n",
       "       'NEW YORK, NEW YORK', 'NH', 'NIR', 'NJ', 'NJ ', 'NJ, GLOUCESTER',\n",
       "       'NJ; ESSEX', 'NL', 'NM', 'NOORD-BRABANT', 'NOORD-HOLLAND', 'NOPE',\n",
       "       'NORTHAMPTON COUNTY, PA', 'NORTHBROOK, IL', 'NOYB', 'NS', 'NSW',\n",
       "       'NUNYA, BIZNESS, USA', 'NV', 'NY', 'NY, TOMPKINS COUNTY',\n",
       "       'OAKLAND COUNTY, MICHIGAN', 'OAKLAND, CALIFORNIA', 'OAKLAND,CA',\n",
       "       'OBLIVION IF THINGS KEEP GOING THIS WAY', 'OH', 'OHIO ', 'OK',\n",
       "       'OKLAHOMA ', 'ON', 'ONT', 'ONTARIO,  CANADA', 'OR',\n",
       "       'ORANGE COUNTY, CA', 'OREGON, MULTNOMAH COUNTY', 'ORLANDO, FL',\n",
       "       'OSAKA', 'OSHAWA, ONTARIO, CANADA', 'OXFORDSHIRE', 'PA',\n",
       "       'PA.   NORTHAMPTON COUNTY',\n",
       "       'PENNSYLVANIA, NORTHAMPTON COUNY, EASTON', 'PHILADELPHIA PA',\n",
       "       'PHILADELPHIA, PA', 'PHOENIX, MARICOPA COUNTY, ARIZONA',\n",
       "       'PITTSBURGH PA', 'PORTLAND, MAINE', 'PR', 'PSYCHOTIC', 'QC', 'QLD',\n",
       "       'QUEENS', 'QUENEC', 'QU\\x8eBEC', 'RAPPAHANNOCK COUNTY, VA',\n",
       "       'RENTON,WA ', 'RI', 'ROTTERDAM', 'SAN JOSE',\n",
       "       'SANTA BARBARA CO. CALIFORNIA', 'SANTA CLARA COUNTY, CALIFORNIA',\n",
       "       'SC', 'SC ', 'SCT', 'SD', 'SEE QUESTION 2', 'SEOUL',\n",
       "       'SHANGHAI, CHANG NING DISTRICT ', 'SINGAPORE', 'SK', 'SKANE',\n",
       "       'SOUTH CAROLINA ', 'SOUTH HOLLAND', 'ST LOUIS MO',\n",
       "       'ST. AUGUSTINE FLORIDA', 'ST. LOUIS COUNTY, MISSOURI', 'STOCKHOLM',\n",
       "       'STRATHCLYDE', 'SUB EARTH', 'SUFFOLK COUNTY NY', 'SURREY',\n",
       "       'SUSSEX', 'SYDNEY ', 'TEHAMA', 'TENNESSEE, KNOX COUNTY',\n",
       "       \"THE DEMOCRATIC PEOPLE'S REPUBLIC OF NORTH CAROLINA\", 'THE SHORE',\n",
       "       'TN', 'TOKYO', 'TREE TOWN, USA', 'TX', 'TX.', 'ULSTER COUNTY, NY',\n",
       "       'UNITED STATES', 'UR MOM', 'USA', 'USA ', 'UT', 'UT, SALT LAKE',\n",
       "       'UTAH ', 'VA', 'VANCOUVER, WA', 'VAUD', 'VERMONT ', 'VICTORIA',\n",
       "       'VIRGINIA ', 'VT', 'WA', 'WA, SPOKANE', 'WASHINGTO',\n",
       "       'WASHINGTON DC', 'WASHINGTON STATE ',\n",
       "       'WASHINGTON STATE, KING COUNTY, CITY OF SEATTLE',\n",
       "       'WASHINGTON STATE, KITSAP COUNTY', 'WASHINGTON, DC',\n",
       "       'WASHINGTON, ISLAND COUNTY', 'WASHINGTON, KING COUNTY',\n",
       "       'WASHINGTON, SEATTLE, KING', 'WEST YORKSHIRE',\n",
       "       'WHATCOM COUNTY, WA', 'WI', 'WV', 'WV, KANAWHA COUNTY ', 'WY',\n",
       "       'WYOMING ', 'YT', 'ZUID HOLLAND', 'Z\\x9fRICH', '|NC', '¯RB¾K', nan],\n",
       "      dtype=object)"
      ]
     },
     "execution_count": 7,
     "metadata": {},
     "output_type": "execute_result"
    }
   ],
   "source": [
    "encode_text_index(file, 'Q5: STATE, PROVINCE, COUNTY, ETC')"
   ]
  },
  {
   "cell_type": "code",
   "execution_count": 8,
   "metadata": {},
   "outputs": [
    {
     "data": {
      "text/plain": [
       "29     305\n",
       "166    120\n",
       "254    112\n",
       "89     104\n",
       "237     95\n",
       "      ... \n",
       "32       1\n",
       "27       1\n",
       "101      1\n",
       "262      1\n",
       "195      1\n",
       "Name: Q5: STATE, PROVINCE, COUNTY, ETC, Length: 278, dtype: int64"
      ]
     },
     "execution_count": 8,
     "metadata": {},
     "output_type": "execute_result"
    }
   ],
   "source": [
    "file['Q5: STATE, PROVINCE, COUNTY, ETC'].value_counts()"
   ]
  },
  {
   "cell_type": "code",
   "execution_count": 9,
   "metadata": {},
   "outputs": [],
   "source": [
    "for index in file.columns:\n",
    "    file[index] = file[index].replace(['MEH', 'JOY', 'DESPAIR'], ['1', '2', '0'])"
   ]
  }
 ],
 "metadata": {
  "interpreter": {
   "hash": "31f2aee4e71d21fbe5cf8b01ff0e069b9275f58929596ceb00d14d90e3e16cd6"
  },
  "kernelspec": {
   "display_name": "Python 3.8.9 64-bit",
   "name": "python3"
  },
  "language_info": {
   "codemirror_mode": {
    "name": "ipython",
    "version": 3
   },
   "file_extension": ".py",
   "mimetype": "text/x-python",
   "name": "python",
   "nbconvert_exporter": "python",
   "pygments_lexer": "ipython3",
   "version": "3.8.8"
  },
  "orig_nbformat": 4
 },
 "nbformat": 4,
 "nbformat_minor": 2
}
