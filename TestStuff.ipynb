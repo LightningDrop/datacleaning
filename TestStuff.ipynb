{
 "cells": [
  {
   "cell_type": "code",
   "execution_count": 3,
   "metadata": {},
   "outputs": [],
   "source": [
    "import pandas as pd\n",
    "import numpy as np\n",
    "from sklearn import preprocessing\n",
    "import json\n",
    "\n",
    "file = pd.read_csv('./data/candyhierarchy2017.csv', encoding = \"ISO-8859-1\")"
   ]
  },
  {
   "cell_type": "code",
   "execution_count": null,
   "metadata": {},
   "outputs": [],
   "source": [
    "# import pandas as pd\n",
    "# import numpy as np\n",
    "\n",
    "# data = pd.read_csv('./data/candyhierarchy2017.csv', encoding = \"ISO-8859-1\")\n",
    "\n",
    "# for index in data.columns:\n",
    "#     data[index] = data[index].replace(['MEH', 'JOY', 'DESPAIR'], ['1', '2', '0'])\n",
    "\n",
    "# print(data)"
   ]
  },
  {
   "cell_type": "code",
   "execution_count": 3,
   "metadata": {},
   "outputs": [],
   "source": [
    "def encode_text_index(df, name):\n",
    "    le = preprocessing.LabelEncoder()\n",
    "    df[name] = le.fit_transform(df[name])\n",
    "    return le.classes_"
   ]
  },
  {
   "cell_type": "code",
   "execution_count": 4,
   "metadata": {},
   "outputs": [],
   "source": [
    "y = [\"Internal ID\", \"Q1: GOING OUT?\", \n",
    "\"Q6 | Anonymous brown globs that come in black and orange wrappers\t(a.k.a. Mary Janes)\", \n",
    "\"Q6 | Any full-sized candy bar\", \"Q6 | Bonkers (the board game)\",\n",
    "\"Q6 | Candy that is clearly just the stuff given out for free at restaurants\", \n",
    "\"Q6 | Cash, or other forms of legal tender\",\"Q6 | Chick-o-Sticks (we donÕt know what that is)\",\n",
    "\"Q6 | Creepy Religious comics/Chick Tracts\", \"Q6 | Dental paraphenalia\", \n",
    "\"Q6 | Generic Brand Acetaminophen\", \"Q6 | Glow sticks\", \"Q6 | Gum from baseball cards\",\n",
    "\"Q6 | Gummy Bears straight up\", \"Q6 | HersheyÕs Milk Chocolate\", \"Q6 | Hugs (actual physical hugs)\",\n",
    "\"Q6 | Jolly Rancher (bad flavor)\", \"Q6 | JoyJoy (Mit Iodine!)\", \"Q6 | Senior Mints\",\n",
    "\"Q6 | Kale smoothie\", \"Q6 | Abstained from M&M'ing.\", \"Q6 | Pencils\", \"Q6 | Real Housewives of Orange County Season 9 Blue-Ray\",\n",
    "\"Q6 | ReeseÕs Peanut Butter Cups\", \"Q6 | Sandwich-sized bags filled with BooBerry Crunch\",\n",
    "\"Q6 | Those odd marshmallow circus peanut things\", \"Q6 | Tolberone something or other\", \n",
    "\"Q6 | Vials of pure high fructose corn syrup, for main-lining into your vein\", \n",
    "\"Q6 | Vicodin\", \"Q6 | White Bread\", \"Q6 | Whole Wheat anything\", \"Q7: JOY OTHER\", \"Q8: DESPAIR OTHER\", \"Q9: OTHER COMMENTS\", \"Q10: DRESS\", \n",
    "\"Unnamed: 113\", \"Q11: DAY\", \"Q12: MEDIA [Daily Dish]\", \"Q12: MEDIA [Science]\", \"Q12: MEDIA [ESPN]\", \n",
    "\"Q12: MEDIA [Yahoo]\", \"Click Coordinates (x, y)\"]\n",
    "\n",
    "file = file.drop(columns=y)\n",
    "file = file.dropna(how='all')"
   ]
  },
  {
   "cell_type": "code",
   "execution_count": 5,
   "metadata": {},
   "outputs": [],
   "source": [
    "file = file.dropna(subset = ['Q6 | Bottle Caps'])"
   ]
  },
  {
   "cell_type": "code",
   "execution_count": 5,
   "metadata": {},
   "outputs": [
    {
     "data": {
      "text/plain": [
       "CA                           313\n",
       "NY                           126\n",
       "WA                           119\n",
       "IL                           106\n",
       "TX                            95\n",
       "                            ... \n",
       "BROOKLYN, KINGS COUNTY NY      1\n",
       "WASHINGTON, ISLAND COUNTY      1\n",
       "KWAZULU-NATAL                  1\n",
       "BRISTOL                        1\n",
       "PSYCHOTIC                      1\n",
       "Name: Q5: STATE, PROVINCE, COUNTY, ETC, Length: 219, dtype: int64"
      ]
     },
     "execution_count": 5,
     "metadata": {},
     "output_type": "execute_result"
    }
   ],
   "source": [
    "unit_dict = np.load('dictionary.npy',allow_pickle='TRUE').item()\n",
    "unit_dict =  {k.upper(): v for k, v in unit_dict.items()}\n",
    "file['Q5: STATE, PROVINCE, COUNTY, ETC'] = file['Q5: STATE, PROVINCE, COUNTY, ETC'].str.upper()\n",
    "file['Q5: STATE, PROVINCE, COUNTY, ETC'] = file['Q5: STATE, PROVINCE, COUNTY, ETC'].map(unit_dict).fillna(file['Q5: STATE, PROVINCE, COUNTY, ETC'])\n",
    "file['Q5: STATE, PROVINCE, COUNTY, ETC'].value_counts()"
   ]
  },
  {
   "cell_type": "code",
   "execution_count": null,
   "metadata": {},
   "outputs": [],
   "source": [
    "test = file['Q5: STATE, PROVINCE, COUNTY, ETC'].value_counts()"
   ]
  },
  {
   "cell_type": "code",
   "execution_count": 7,
   "metadata": {},
   "outputs": [
    {
     "data": {
      "text/plain": [
       "array(['A', 'AB', 'ABERDEENSHIRE', 'ABU DHABI', 'AK', 'AL',\n",
       "       'ALAMEDA COUNTY, CALIFORNIA', 'ALASKA, MATANUSKA-SUSITNA BOROUGH',\n",
       "       'AMERICA', 'AR', 'ARIZONA ', 'ARLINGTON, VA', 'ATLANTA, GA', 'AZ',\n",
       "       'BAJA CALIFORNIA', 'BC', 'BERKELEY, CA', 'BERLIN',\n",
       "       'BLOOMINGTON, IN', 'BRISTOL COUNTY, RHODE ISLAND',\n",
       "       'BRITISH COLUMBIA ', 'BRITISH COLUMBIA, CANADA', 'BROOKLYN',\n",
       "       'BROOKLYN, KINGS COUNTY NY', 'BUNCOMBE COUNTY, NORTH CAROLINA',\n",
       "       'CA', 'CAILIFORNIA', 'CALIF', 'CALIFOR', 'CALIFORMIA',\n",
       "       'CALIFORNIA, CONTRA COSTA COUNTY, PLEASANT HILL',\n",
       "       'CALIFORNIA, MENDOCINO COUNTY', 'CALIFORNIA, SAN DIEGO',\n",
       "       'CALIFORNIA, SAN FRANCISCO', 'CALIFORNIA, USA', 'CANADA',\n",
       "       'CARVER COUNTY, MN', 'CASCADIA', 'CHICAGO, IL', 'CO',\n",
       "       'COLORADO LARIMER COUNTY', 'CONNECTICUT ', 'COOK', 'CT',\n",
       "       'CUYAHOGA COUNTY, OHIO', 'DC', 'DC ', 'DE', 'DERBYSHIRE',\n",
       "       'DEVONSHIRE', 'DONA ANA COUNTY, NEW MEXICO', 'DUBLIN',\n",
       "       'DURHAM COUNTY, NORTH CAROLINA', 'DUTCHESS COUNTY NY', 'EDINBURGH',\n",
       "       'EMERALD CITY, PETROLIA', 'FL', 'FL ', 'FLORIDA ', 'GA',\n",
       "       'GEORGIA ', 'GLASGOW', 'GLENDORA, LOS ANGELES, CALIFORNIA',\n",
       "       'GREATER LONDON', 'GREIFSWALD', 'HENRICO, VA', 'HESSEN', 'HI',\n",
       "       'HONG KONG', 'IA', 'ID', 'IDF', 'IL', 'ILL', 'ILLINOIS  ', 'IN',\n",
       "       'INDIANA ', 'KALAMAZOO COUNTY, MI', 'KENT', 'KENTUCKY ', 'KILDARE',\n",
       "       'KING COUNTY, WASHINGTON', 'KINGS, NEW YORK ', 'KS', 'KY', 'LA',\n",
       "       'LONDON', 'MA', 'MADRID', 'MANCHESTER', 'MANITOBA ',\n",
       "       'MANNHEIM, BADEN-W\\x9fRTTEMBERG ', 'MARYLAND ', 'MASSACHUSSETS ',\n",
       "       'MB', 'MD', 'MD ', 'ME', 'MERLIN', 'MEXICO CITY', 'MI',\n",
       "       'MIDLOTHIAN', 'MISSOURE', 'MN', 'MO', 'MONROE COUNTY', 'MS', 'MT',\n",
       "       'MUNSTER', 'NC', 'ND', 'NE', 'NEW ORLEANS LA ',\n",
       "       'NEW YORK COUNTY, NEW YORK CITY, NEW YORK STATE', 'NH', 'NJ',\n",
       "       'NJ ', 'NJ, GLOUCESTER', 'NJ; ESSEX', 'NL', 'NM', 'NOORD-HOLLAND',\n",
       "       'NORTHBROOK, IL', 'NOYB', 'NS', 'NUNYA, BIZNESS, USA', 'NV', 'NY',\n",
       "       'NY, TOMPKINS COUNTY', 'OAKLAND COUNTY, MICHIGAN',\n",
       "       'OAKLAND, CALIFORNIA', 'OBLIVION IF THINGS KEEP GOING THIS WAY',\n",
       "       'OH', 'OHIO ', 'OK', 'OKLAHOMA ', 'ON', 'ONT', 'OR',\n",
       "       'ORANGE COUNTY, CA', 'OREGON, MULTNOMAH COUNTY', 'OSAKA',\n",
       "       'OXFORDSHIRE', 'PA', 'PENNSYLVANIA, NORTHAMPTON COUNY, EASTON',\n",
       "       'PHILADELPHIA PA', 'PHILADELPHIA, PA',\n",
       "       'PHOENIX, MARICOPA COUNTY, ARIZONA', 'PITTSBURGH PA',\n",
       "       'PORTLAND, MAINE', 'PSYCHOTIC', 'QC', 'QUEENS', 'QUENEC',\n",
       "       'QU\\x8eBEC', 'RAPPAHANNOCK COUNTY, VA', 'RI', 'ROTTERDAM',\n",
       "       'SAN JOSE', 'SANTA BARBARA CO. CALIFORNIA',\n",
       "       'SANTA CLARA COUNTY, CALIFORNIA', 'SC', 'SC ', 'SCT', 'SD',\n",
       "       'SEE QUESTION 2', 'SEOUL', 'SK', 'SOUTH CAROLINA ',\n",
       "       'SOUTH HOLLAND', 'ST. AUGUSTINE FLORIDA', 'STRATHCLYDE',\n",
       "       'SUB EARTH', 'SUFFOLK COUNTY NY', 'SURREY', 'TEHAMA',\n",
       "       'TENNESSEE, KNOX COUNTY',\n",
       "       \"THE DEMOCRATIC PEOPLE'S REPUBLIC OF NORTH CAROLINA\", 'THE SHORE',\n",
       "       'TN', 'TOKYO', 'TREE TOWN, USA', 'TX', 'TX.', 'ULSTER COUNTY, NY',\n",
       "       'UR MOM', 'USA ', 'UT', 'UT, SALT LAKE', 'VA', 'VANCOUVER, WA',\n",
       "       'VAUD', 'VERMONT ', 'VIRGINIA ', 'VT', 'WA', 'WA, SPOKANE',\n",
       "       'WASHINGTO', 'WASHINGTON DC', 'WASHINGTON STATE ',\n",
       "       'WASHINGTON STATE, KING COUNTY, CITY OF SEATTLE', 'WASHINGTON, DC',\n",
       "       'WASHINGTON, KING COUNTY', 'WASHINGTON, SEATTLE, KING',\n",
       "       'WEST YORKSHIRE', 'WHATCOM COUNTY, WA', 'WI', 'WV',\n",
       "       'WV, KANAWHA COUNTY ', 'WY', 'WYOMING ', 'YT', '|NC', '¯RB¾K', nan],\n",
       "      dtype=object)"
      ]
     },
     "execution_count": 7,
     "metadata": {},
     "output_type": "execute_result"
    }
   ],
   "source": [
    "encode_text_index(file, 'Q5: STATE, PROVINCE, COUNTY, ETC')"
   ]
  },
  {
   "cell_type": "code",
   "execution_count": 13,
   "metadata": {},
   "outputs": [],
   "source": [
    "test = file['Q5: STATE, PROVINCE, COUNTY, ETC']\n",
    "test = test.value_counts()"
   ]
  },
  {
   "cell_type": "code",
   "execution_count": null,
   "metadata": {},
   "outputs": [],
   "source": [
    "for index in file.columns:\n",
    "    file[index] = file[index].replace(['MEH', 'JOY', 'DESPAIR'], ['1', '2', '0'])"
   ]
  }
 ],
 "metadata": {
  "interpreter": {
   "hash": "31f2aee4e71d21fbe5cf8b01ff0e069b9275f58929596ceb00d14d90e3e16cd6"
  },
  "kernelspec": {
   "display_name": "Python 3.8.9 64-bit",
   "name": "python3"
  },
  "language_info": {
   "codemirror_mode": {
    "name": "ipython",
    "version": 3
   },
   "file_extension": ".py",
   "mimetype": "text/x-python",
   "name": "python",
   "nbconvert_exporter": "python",
   "pygments_lexer": "ipython3",
   "version": "3.8.8"
  },
  "orig_nbformat": 4
 },
 "nbformat": 4,
 "nbformat_minor": 2
}
