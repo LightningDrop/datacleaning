{
 "cells": [
  {
   "cell_type": "markdown",
   "metadata": {},
   "source": [
    "# Removing of Unnecessary Columns\n",
    "---\n",
    "This is the removing of columns that are deemed as not needed for our finalized data, so as part of the preprocessing process we are removing said data."
   ]
  },
  {
   "cell_type": "code",
   "execution_count": 34,
   "metadata": {},
   "outputs": [],
   "source": [
    "import pandas as pd     # importing pandas\n",
    "\n",
    "# Storing candy data to csv file\n",
    "file = pd.read_csv('../candyhierarchy2017.csv',encoding = \"ISO-8859-1\")"
   ]
  },
  {
   "cell_type": "markdown",
   "metadata": {},
   "source": [
    "After storing the data to a file, by looking at the survey that was provided for the candy hierarchy, columns will be dropped because they do not serve a value.\n",
    "\n",
    "---\n",
    "\n",
    "The following colums were removed for these reasons:\n",
    "- > Internal ID: No value with our data\n",
    "- > Q1 : Not a candy question\n",
    "- > Q6 : Not a candy\n",
    "- > Q7, Q8, Q9: Comments serving no value\n",
    "- > Q10, Q11, Q13: Not a candy question\n",
    "- > Unamed: 113: Blank column with no value\n",
    "- > Click Coordinates (x, y): Not of significant value to candy data"
   ]
  },
  {
   "cell_type": "code",
   "execution_count": 35,
   "metadata": {},
   "outputs": [],
   "source": [
    "# All columns from the data set that will be removed\n",
    "col_remove = [\"Internal ID\", \"Q1: GOING OUT?\", \n",
    "\"Q6 | Anonymous brown globs that come in black and orange wrappers\t(a.k.a. Mary Janes)\", \n",
    "\"Q6 | Any full-sized candy bar\", \"Q6 | Bonkers (the board game)\", \"Q6 | Box'o'Raisins\",\n",
    "\"Q6 | Broken glow stick\", \n",
    "\"Q6 | Candy that is clearly just the stuff given out for free at restaurants\", \n",
    "\"Q6 | Cash, or other forms of legal tender\", \"Q6 | Chardonnay\", \n",
    "\"Q6 | Chick-o-Sticks (we donÕt know what that is)\",\n",
    "\"Q6 | Creepy Religious comics/Chick Tracts\", \"Q6 | Dental paraphenalia\", \n",
    "\"Q6 | Generic Brand Acetaminophen\", \"Q6 | Glow sticks\", \"Q6 | Green Party M&M's\", \n",
    "\"Q6 | Gum from baseball cards\", \"Q6 | Independent M&M's\",\n",
    "\"Q6 | Gummy Bears straight up\", \"Q6 | Healthy Fruit\", \"Q6 | Hugs (actual physical hugs)\",\n",
    "\"Q6 | Jolly Rancher (bad flavor)\", \"Q6 | JoyJoy (Mit Iodine!)\", \"Q6 | Senior Mints\",\n",
    "\"Q6 | Kale smoothie\", \"Q6 | Abstained from M&M'ing.\", \"Q6 | Pencils\", \n",
    "\"Q6 | Mint Juleps\", \"Q6 | Spotted Dick\", \"Q6 | Minibags of chips\", \n",
    "\"Q6 | Real Housewives of Orange County Season 9 Blue-Ray\",\n",
    "\"Q6 | Sandwich-sized bags filled with BooBerry Crunch\",\n",
    "\"Q6 | Those odd marshmallow circus peanut things\", \n",
    "\"Q6 | Vials of pure high fructose corn syrup, for main-lining into your vein\", \n",
    "\"Q6 | Vicodin\", \"Q6 | White Bread\", \"Q6 | Whole Wheat anything\", \n",
    "\"Q7: JOY OTHER\", \"Q8: DESPAIR OTHER\", \"Q9: OTHER COMMENTS\", \"Q10: DRESS\", \n",
    "\"Unnamed: 113\", \"Q11: DAY\", \"Q12: MEDIA [Daily Dish]\", \"Q12: MEDIA [Science]\", \"Q12: MEDIA [ESPN]\", \n",
    "\"Q12: MEDIA [Yahoo]\", \"Click Coordinates (x, y)\"]\n",
    "\n",
    "# Files are dropped from the dataframe\n",
    "file = file.drop(columns = col_remove)\n",
    "\n",
    "# New dataframe is saved to relative file location and name\n",
    "file.to_csv('candydata_col_removed.csv')"
   ]
  },
  {
   "cell_type": "markdown",
   "metadata": {},
   "source": [
    "### Columns in the data are now removed and stored to the variable in the final line of code above."
   ]
  }
 ],
 "metadata": {
  "interpreter": {
   "hash": "56794fb549312e2924d86ee0e35d44ab95b93815fa84044d4ee11b78b7de2e26"
  },
  "kernelspec": {
   "display_name": "Python 3.9.7 ('base')",
   "language": "python",
   "name": "python3"
  },
  "language_info": {
   "codemirror_mode": {
    "name": "ipython",
    "version": 3
   },
   "file_extension": ".py",
   "mimetype": "text/x-python",
   "name": "python",
   "nbconvert_exporter": "python",
   "pygments_lexer": "ipython3",
   "version": "3.9.7"
  },
  "orig_nbformat": 4
 },
 "nbformat": 4,
 "nbformat_minor": 2
}
