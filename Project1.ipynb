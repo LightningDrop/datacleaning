{
 "cells": [
  {
   "cell_type": "markdown",
   "metadata": {},
   "source": [
    "# Project 1  - Data Preprocessing"
   ]
  },
  {
   "cell_type": "markdown",
   "metadata": {},
   "source": [
    "### Dataset - Candy Hierarchy 2017\n",
    "https://www.scq.ubc.ca/so-much-candy-data-seriously/"
   ]
  },
  {
   "cell_type": "markdown",
   "metadata": {},
   "source": [
    "### Imports"
   ]
  },
  {
   "cell_type": "code",
   "execution_count": 114,
   "metadata": {},
   "outputs": [],
   "source": [
    "import pandas as pd\n",
    "import numpy as np\n",
    "from sklearn import preprocessing\n",
    "import json"
   ]
  },
  {
   "cell_type": "markdown",
   "metadata": {},
   "source": [
    "### Define functions and variables"
   ]
  },
  {
   "cell_type": "code",
   "execution_count": 115,
   "metadata": {},
   "outputs": [],
   "source": [
    "def encode_text_index(df, name):\n",
    "    le = preprocessing.LabelEncoder()\n",
    "    df[name] = le.fit_transform(df[name])\n",
    "    return le.classes_\n",
    "\n",
    "unit_dict = np.load('dictionary.npy',allow_pickle='TRUE').item()"
   ]
  },
  {
   "cell_type": "markdown",
   "metadata": {},
   "source": [
    "### Read in dataset as Pandas dataframe"
   ]
  },
  {
   "cell_type": "code",
   "execution_count": 116,
   "metadata": {},
   "outputs": [],
   "source": [
    "df = pd.read_csv('./data/candyhierarchy2017.csv', encoding = \"ISO-8859-1\")"
   ]
  },
  {
   "cell_type": "markdown",
   "metadata": {},
   "source": [
    "# Removing of Unnecessary Columns\n",
    "---\n",
    "This is the removing of columns that are deemed as not needed for our finalized data, so as part of the preprocessing process we are removing said data."
   ]
  },
  {
   "cell_type": "markdown",
   "metadata": {},
   "source": [
    "After storing the data to a file, by looking at the survey that was provided for the candy hierarchy, columns will be dropped because they do not serve a value.\n",
    "\n",
    "---\n",
    "\n",
    "The following colums were removed for these reasons:\n",
    "- > Internal ID: No value with our data\n",
    "- > Q1 : Not a candy question\n",
    "- > Q6 : Not a candy\n",
    "- > Q7, Q8, Q9: Comments serving no value\n",
    "- > Q10, Q11, Q13: Not a candy question\n",
    "- > Unamed: 113: Blank column with no value\n",
    "- > Click Coordinates (x, y): Not of significant value to candy data"
   ]
  },
  {
   "cell_type": "code",
   "execution_count": 117,
   "metadata": {},
   "outputs": [],
   "source": [
    "# All columns from the data set that will be removed\n",
    "col_remove = [\"Internal ID\", \"Q1: GOING OUT?\", \n",
    "\"Q6 | Anonymous brown globs that come in black and orange wrappers\t(a.k.a. Mary Janes)\", \n",
    "\"Q6 | Any full-sized candy bar\", \"Q6 | Bonkers (the board game)\", \"Q6 | Box'o'Raisins\",\n",
    "\"Q6 | Broken glow stick\", \n",
    "\"Q6 | Candy that is clearly just the stuff given out for free at restaurants\", \n",
    "\"Q6 | Cash, or other forms of legal tender\", \"Q6 | Chardonnay\", \n",
    "\"Q6 | Chick-o-Sticks (we donÕt know what that is)\",\n",
    "\"Q6 | Creepy Religious comics/Chick Tracts\", \"Q6 | Dental paraphenalia\", \n",
    "\"Q6 | Generic Brand Acetaminophen\", \"Q6 | Glow sticks\", \"Q6 | Green Party M&M's\", \n",
    "\"Q6 | Gum from baseball cards\", \"Q6 | Independent M&M's\",\n",
    "\"Q6 | Gummy Bears straight up\", \"Q6 | Healthy Fruit\", \"Q6 | Hugs (actual physical hugs)\",\n",
    "\"Q6 | Jolly Rancher (bad flavor)\", \"Q6 | JoyJoy (Mit Iodine!)\", \"Q6 | Senior Mints\",\n",
    "\"Q6 | Kale smoothie\", \"Q6 | Abstained from M&M'ing.\", \"Q6 | Pencils\", \n",
    "\"Q6 | Mint Juleps\", \"Q6 | Spotted Dick\", \"Q6 | Minibags of chips\", \n",
    "\"Q6 | Real Housewives of Orange County Season 9 Blue-Ray\",\n",
    "\"Q6 | Sandwich-sized bags filled with BooBerry Crunch\",\n",
    "\"Q6 | Those odd marshmallow circus peanut things\", \n",
    "\"Q6 | Vials of pure high fructose corn syrup, for main-lining into your vein\", \n",
    "\"Q6 | Vicodin\", \"Q6 | White Bread\", \"Q6 | Whole Wheat anything\", \n",
    "\"Q7: JOY OTHER\", \"Q8: DESPAIR OTHER\", \"Q9: OTHER COMMENTS\", \"Q10: DRESS\", \n",
    "\"Unnamed: 113\", \"Q11: DAY\", \"Q12: MEDIA [Daily Dish]\", \"Q12: MEDIA [Science]\", \"Q12: MEDIA [ESPN]\", \n",
    "\"Q12: MEDIA [Yahoo]\", \"Click Coordinates (x, y)\"]\n",
    "\n",
    "# Files are dropped from the dataframe\n",
    "df = df.drop(columns = col_remove)\n",
    "\n",
    "# New dataframe is saved to relative file location and name\n",
    "df.to_csv('candydata_col_removed.csv')"
   ]
  },
  {
   "cell_type": "markdown",
   "metadata": {},
   "source": [
    "### Columns in the data are now removed and stored to the variable in the final line of code above."
   ]
  },
  {
   "cell_type": "markdown",
   "metadata": {},
   "source": [
    "# Removing of unnecessary rows"
   ]
  },
  {
   "cell_type": "markdown",
   "metadata": {},
   "source": [
    "# Cleaning Age Values"
   ]
  },
  {
   "cell_type": "markdown",
   "metadata": {},
   "source": [
    "Removing rows where age is not an integer"
   ]
  },
  {
   "cell_type": "code",
   "execution_count": 118,
   "metadata": {},
   "outputs": [],
   "source": [
    "df = df[pd.to_numeric(df['Q3: AGE'], errors='coerce').notnull()]"
   ]
  },
  {
   "cell_type": "markdown",
   "id": "3279e81a",
   "metadata": {},
   "source": [
    "# Normalizing Genders\n",
    " Normalizing and mapping to values"
   ]
  },
  {
   "cell_type": "markdown",
   "metadata": {},
   "source": [
    "Replacing NaN with \"I'd rather not say\" since it makes more sense, rather than just deleting..."
   ]
  },
  {
   "cell_type": "code",
   "execution_count": 119,
   "metadata": {},
   "outputs": [],
   "source": [
    "df['Q2: GENDER'].fillna(value = \"I'd rather not say\", inplace = True)"
   ]
  },
  {
   "cell_type": "markdown",
   "metadata": {},
   "source": [
    "Maps a value to each..."
   ]
  },
  {
   "cell_type": "code",
   "execution_count": 120,
   "metadata": {},
   "outputs": [],
   "source": [
    "df2 = {\"Male\": '0', 'Female': '1', \"I'd rather not say\" : '2', 'other' : '3' }\n",
    "df['Q2: GENDER'] = df['Q2: GENDER'].map(df2)"
   ]
  },
  {
   "cell_type": "markdown",
   "metadata": {},
   "source": [
    "# Normalizing Countries"
   ]
  },
  {
   "cell_type": "markdown",
   "metadata": {},
   "source": [
    "# Normalizing States, Cities, Provinces"
   ]
  },
  {
   "cell_type": "markdown",
   "metadata": {},
   "source": [
    "Convert dictionary and target column to uppercase before mapping"
   ]
  },
  {
   "cell_type": "code",
   "execution_count": 121,
   "metadata": {},
   "outputs": [],
   "source": [
    "unit_dict =  {k.upper(): v for k, v in unit_dict.items()}\n",
    "df['Q5: STATE, PROVINCE, COUNTY, ETC'] = df['Q5: STATE, PROVINCE, COUNTY, ETC'].str.upper()"
   ]
  },
  {
   "cell_type": "markdown",
   "metadata": {},
   "source": [
    "Map values in column to their corresponding dictionary key"
   ]
  },
  {
   "cell_type": "code",
   "execution_count": 122,
   "metadata": {},
   "outputs": [],
   "source": [
    "df['Q5: STATE, PROVINCE, COUNTY, ETC'] = df['Q5: STATE, PROVINCE, COUNTY, ETC'].map(unit_dict).fillna(df['Q5: STATE, PROVINCE, COUNTY, ETC'])"
   ]
  },
  {
   "cell_type": "markdown",
   "metadata": {},
   "source": [
    "Display counts of unique values after mapping"
   ]
  },
  {
   "cell_type": "code",
   "execution_count": 123,
   "metadata": {},
   "outputs": [
    {
     "data": {
      "text/plain": [
       "CA                      307\n",
       "NY                      122\n",
       "WA                      116\n",
       "IL                      105\n",
       "PA                       93\n",
       "                       ... \n",
       "KALAMAZOO COUNTY, MI      1\n",
       "A                         1\n",
       "FIFE, SCOTLAND            1\n",
       "GREATER MANCHESTER        1\n",
       "ST LOUIS MO               1\n",
       "Name: Q5: STATE, PROVINCE, COUNTY, ETC, Length: 212, dtype: int64"
      ]
     },
     "execution_count": 123,
     "metadata": {},
     "output_type": "execute_result"
    }
   ],
   "source": [
    "df['Q5: STATE, PROVINCE, COUNTY, ETC'].value_counts()"
   ]
  },
  {
   "cell_type": "markdown",
   "metadata": {},
   "source": [
    "Label encode each state or province after mapping"
   ]
  },
  {
   "cell_type": "code",
   "execution_count": 124,
   "metadata": {},
   "outputs": [
    {
     "data": {
      "text/plain": [
       "array(['1', 'A', 'AB', 'ABERDEENSHIRE', 'ABU DHABI', 'AK', 'AL',\n",
       "       'ALAMEDA COUNTY, CALIFORNIA', 'ALBEQRRTA', 'AMERICA', 'AR',\n",
       "       'ATLANTA, GA', 'AZ', 'BAJA CALIFORNIA', 'BC', 'BERKELEY, CA',\n",
       "       'BERLIN', 'BLOOMINGTON, IN', 'BRISTOL ',\n",
       "       'BRITISH COLUMBIA, CANADA', 'BROOKLYN',\n",
       "       'BROOKLYN, KINGS COUNTY NY', 'BUNCOMBE COUNTY, NORTH CAROLINA',\n",
       "       'CA', 'CALIFOR', 'CALIFORNIA, CONTRA COSTA COUNTY, PLEASANT HILL',\n",
       "       'CALIFORNIA, MENDOCINO COUNTY', 'CALIFORNIA, SAN DIEGO',\n",
       "       'CALIFORNIA, SAN DIEGO COUNTY', 'CALIFORNIA, SAN FRANCISCO',\n",
       "       'CALIFORNIA, VENTURA COUNTY', 'CANADA', 'CASCADIA', 'CDMX',\n",
       "       'CHICAGO', 'CHICAGO, IL', 'CHICAGO, IL ', 'CO', 'COLORADO (CO)',\n",
       "       'COLORADO, BOULDER', 'COOK', 'CT', 'DC', 'DC ', 'DE', 'DERBYSHIRE',\n",
       "       'DEVONSHIRE', 'DUBLIN', 'DUBLIN ', 'DURHAM COUNTY, NORTH CAROLINA',\n",
       "       'EDINBURGH', 'EMERALD CITY, PETROLIA', 'ENG', 'FIFE, SCOTLAND',\n",
       "       'FL', 'FL ', 'GA', 'GA - GEORGIA', 'GLASGOW', 'GLASGOW ',\n",
       "       'GREATER MANCHESTER', 'GREIFSWALD', 'HESSE', 'HESSEN', 'HI',\n",
       "       'HONG KONG', 'IA', 'ID', 'IDF', 'IL', 'ILLINOIS  ', 'IN',\n",
       "       'INDIANA ', 'JAKARTA', 'KALAMAZOO COUNTY, MI', 'KANAGAWA ', 'KENT',\n",
       "       'KILDARE', 'KS', 'KWAZULU-NATAL', 'KY', 'LA', 'LANCASIRE',\n",
       "       'LONDOM', 'LONDON', 'MA', 'MADRID', 'MANCHESTER', 'MANITOBA ',\n",
       "       'MANNHEIM, BADEN-W\\x9fRTTEMBERG ', 'MARIETTA, GA', 'MARNE',\n",
       "       'MARYLAND ', 'MB', 'MD', 'MD ', 'ME', 'MERLIN', 'MEXICO CITY',\n",
       "       'MI', 'MICH', 'MICHIGIN', 'MIDLOTHIAN', 'MISSOURI, MILLER COUNTY',\n",
       "       'MN', 'MO', 'MONROE COUNTY', 'MS', 'MT', 'MUNSTER', 'N-BRABANT',\n",
       "       'NA', 'NB', 'NC', 'ND', 'NE', 'NEW JERSEY ', 'NEW MEXICO, USA',\n",
       "       'NEW YORK, NEW YORK', 'NH', 'NIR', 'NJ', 'NJ ', 'NL', 'NM',\n",
       "       'NOORD-BRABANT', 'NOORD-HOLLAND', 'NOPE', 'NORTHAMPTON COUNTY, PA',\n",
       "       'NOYB', 'NS', 'NSW', 'NUNYA, BIZNESS, USA', 'NV', 'NY',\n",
       "       'OAKLAND COUNTY, MICHIGAN', 'OAKLAND,CA', 'OH', 'OK', 'ON', 'ONT',\n",
       "       'ONTARIO,  CANADA', 'OR', 'ORLANDO, FL', 'OSAKA',\n",
       "       'OSHAWA, ONTARIO, CANADA', 'OXFORDSHIRE', 'PA',\n",
       "       'PA.   NORTHAMPTON COUNTY', 'PHILADELPHIA PA',\n",
       "       'PHOENIX, MARICOPA COUNTY, ARIZONA', 'PITTSBURGH PA', 'PR', 'QC',\n",
       "       'QLD', 'QUEENS', 'QUENEC', 'QU\\x8eBEC', 'RENTON,WA ', 'RI',\n",
       "       'ROTTERDAM', 'SAN JOSE', 'SANTA BARBARA CO. CALIFORNIA', 'SC',\n",
       "       'SC ', 'SCT', 'SD', 'SEOUL', 'SHANGHAI, CHANG NING DISTRICT ',\n",
       "       'SINGAPORE', 'SK', 'SKANE', 'SOUTH HOLLAND', 'ST LOUIS MO',\n",
       "       'ST. LOUIS COUNTY, MISSOURI', 'STOCKHOLM', 'STRATHCLYDE',\n",
       "       'SUB EARTH', 'SURREY', 'SUSSEX', 'SYDNEY ', 'TEHAMA',\n",
       "       \"THE DEMOCRATIC PEOPLE'S REPUBLIC OF NORTH CAROLINA\", 'THE SHORE',\n",
       "       'TN', 'TREE TOWN, USA', 'TX', 'TX.', 'TYO', 'UNITED STATES', 'USA',\n",
       "       'USA ', 'UT', 'UT, SALT LAKE', 'UTAH ', 'VA', 'VANCOUVER, WA',\n",
       "       'VAUD', 'VICTORIA', 'VT', 'WA', 'WASHINGTON STATE, KITSAP COUNTY',\n",
       "       'WASHINGTON, ISLAND COUNTY', 'WASHINGTON, SEATTLE, KING',\n",
       "       'WEST YORKSHIRE', 'WI', 'WV', 'WY', 'YT', 'ZUID HOLLAND',\n",
       "       'Z\\x9fRICH', '¯RB¾K', nan], dtype=object)"
      ]
     },
     "execution_count": 124,
     "metadata": {},
     "output_type": "execute_result"
    }
   ],
   "source": [
    "encode_text_index(df, 'Q5: STATE, PROVINCE, COUNTY, ETC')"
   ]
  },
  {
   "cell_type": "markdown",
   "metadata": {},
   "source": [
    "# Normalizing Candy Ratings"
   ]
  },
  {
   "cell_type": "code",
   "execution_count": 125,
   "metadata": {},
   "outputs": [
    {
     "name": "stdout",
     "output_type": "stream",
     "text": [
      "     Q2: GENDER Q3: AGE Q4: COUNTRY  Q5: STATE, PROVINCE, COUNTY, ETC  \\\n",
      "1             0      44        USA                                124   \n",
      "2             0      49         USA                               195   \n",
      "3             0      40          us                               142   \n",
      "4             0      23         usa                               147   \n",
      "6             0      53         usa                                37   \n",
      "...         ...     ...         ...                               ...   \n",
      "2455          0      24         USA                                94   \n",
      "2456          1      33         USA                               134   \n",
      "2457          1      26        USA                                184   \n",
      "2458          0      58         Usa                               113   \n",
      "2459          1      66         usa                               147   \n",
      "\n",
      "     Q6 | 100 Grand Bar Q6 | Black Jacks Q6 | Bonkers (the candy)  \\\n",
      "1                     1                1                        0   \n",
      "2                   NaN              NaN                      NaN   \n",
      "3                     1                1                        1   \n",
      "4                     2                0                        1   \n",
      "6                   NaN              NaN                      NaN   \n",
      "...                 ...              ...                      ...   \n",
      "2455                  2                0                        0   \n",
      "2456                  1              NaN                      NaN   \n",
      "2457                  1                0                        1   \n",
      "2458                NaN              NaN                      NaN   \n",
      "2459                  0                0                        0   \n",
      "\n",
      "     Q6 | Bottle Caps Q6 | Butterfinger Q6 | Cadbury Creme Eggs  ...  \\\n",
      "1                   0                 0                       1  ...   \n",
      "2                 NaN               NaN                     NaN  ...   \n",
      "3                   1                 1                       1  ...   \n",
      "4                   1                 1                       1  ...   \n",
      "6                 NaN               NaN                     NaN  ...   \n",
      "...               ...               ...                     ...  ...   \n",
      "2455                1                 1                       0  ...   \n",
      "2456              NaN                 2                       2  ...   \n",
      "2457                0                 0                       2  ...   \n",
      "2458              NaN               NaN                     NaN  ...   \n",
      "2459                0                 2                       1  ...   \n",
      "\n",
      "     Q6 | Swedish Fish Q6 | Sweetums (a friend to diabetes) Q6 | Take 5  \\\n",
      "1                    1                                    0           0   \n",
      "2                  NaN                                  NaN         NaN   \n",
      "3                    2                                    1           2   \n",
      "4                    1                                    0           1   \n",
      "6                  NaN                                  NaN         NaN   \n",
      "...                ...                                  ...         ...   \n",
      "2455                 2                                    0           1   \n",
      "2456                 1                                  NaN           2   \n",
      "2457                 0                                    0           1   \n",
      "2458               NaN                                  NaN         NaN   \n",
      "2459                 0                                    0           0   \n",
      "\n",
      "     Q6 | Tic Tacs Q6 | Three Musketeers Q6 | Tolberone something or other  \\\n",
      "1                0                     2                                 2   \n",
      "2              NaN                   NaN                               NaN   \n",
      "3                1                     0                                 2   \n",
      "4                0                     2                                 2   \n",
      "6              NaN                   NaN                               NaN   \n",
      "...            ...                   ...                               ...   \n",
      "2455             2                     1                                 1   \n",
      "2456             0                     1                                 1   \n",
      "2457             1                     2                                 2   \n",
      "2458           NaN                   NaN                               NaN   \n",
      "2459             0                     2                                 1   \n",
      "\n",
      "     Q6 | Trail Mix Q6 | Twix Q6 | Whatchamacallit Bars  \\\n",
      "1                 0         2                         0   \n",
      "2               NaN       NaN                       NaN   \n",
      "3                 1         2                         2   \n",
      "4                 0         2                         2   \n",
      "6               NaN       NaN                       NaN   \n",
      "...             ...       ...                       ...   \n",
      "2455              2         2                         0   \n",
      "2456              0         2                         2   \n",
      "2457              1         1                         1   \n",
      "2458            NaN       NaN                       NaN   \n",
      "2459              0         0                         0   \n",
      "\n",
      "     Q6 | York Peppermint Patties  \n",
      "1                               0  \n",
      "2                             NaN  \n",
      "3                               0  \n",
      "4                               2  \n",
      "6                             NaN  \n",
      "...                           ...  \n",
      "2455                            1  \n",
      "2456                            2  \n",
      "2457                            1  \n",
      "2458                          NaN  \n",
      "2459                            2  \n",
      "\n",
      "[2351 rows x 72 columns]\n"
     ]
    }
   ],
   "source": [
    "for index in df.columns:\n",
    "    df[index] = df[index].replace(['MEH', 'JOY', 'DESPAIR'], ['1', '2', '0'])\n",
    "\n",
    "print(df)"
   ]
  },
  {
   "cell_type": "markdown",
   "metadata": {},
   "source": [
    "## Replacing missing values options\n",
    "---\n",
    "### Replace with meh\n",
    "    > file[index] = file[index].fillna(1)\n",
    "- Decided upon this for candy sections because mean would not work for our categorical needs\n",
    "\n",
    "### Replace with new value\n",
    "    > file[index] = file[index].fillna(2)\n",
    "- Decided upon this for gender and location\n",
    "\n",
    "### Replace with mean\n",
    "    > To use/do mean, make sure that data is in int\n",
    "    > file[index] = file[index].fillna(file[index].mean())\n",
    "- Decided upon this for age"
   ]
  },
  {
   "cell_type": "code",
   "execution_count": 126,
   "metadata": {},
   "outputs": [
    {
     "data": {
      "text/html": [
       "<div>\n",
       "<style scoped>\n",
       "    .dataframe tbody tr th:only-of-type {\n",
       "        vertical-align: middle;\n",
       "    }\n",
       "\n",
       "    .dataframe tbody tr th {\n",
       "        vertical-align: top;\n",
       "    }\n",
       "\n",
       "    .dataframe thead th {\n",
       "        text-align: right;\n",
       "    }\n",
       "</style>\n",
       "<table border=\"1\" class=\"dataframe\">\n",
       "  <thead>\n",
       "    <tr style=\"text-align: right;\">\n",
       "      <th></th>\n",
       "      <th>Q2: GENDER</th>\n",
       "      <th>Q3: AGE</th>\n",
       "      <th>Q4: COUNTRY</th>\n",
       "      <th>Q5: STATE, PROVINCE, COUNTY, ETC</th>\n",
       "      <th>Q6 | 100 Grand Bar</th>\n",
       "      <th>Q6 | Black Jacks</th>\n",
       "      <th>Q6 | Bonkers (the candy)</th>\n",
       "      <th>Q6 | Bottle Caps</th>\n",
       "      <th>Q6 | Butterfinger</th>\n",
       "      <th>Q6 | Cadbury Creme Eggs</th>\n",
       "      <th>...</th>\n",
       "      <th>Q6 | Swedish Fish</th>\n",
       "      <th>Q6 | Sweetums (a friend to diabetes)</th>\n",
       "      <th>Q6 | Take 5</th>\n",
       "      <th>Q6 | Tic Tacs</th>\n",
       "      <th>Q6 | Three Musketeers</th>\n",
       "      <th>Q6 | Tolberone something or other</th>\n",
       "      <th>Q6 | Trail Mix</th>\n",
       "      <th>Q6 | Twix</th>\n",
       "      <th>Q6 | Whatchamacallit Bars</th>\n",
       "      <th>Q6 | York Peppermint Patties</th>\n",
       "    </tr>\n",
       "  </thead>\n",
       "  <tbody>\n",
       "    <tr>\n",
       "      <th>1</th>\n",
       "      <td>0</td>\n",
       "      <td>44</td>\n",
       "      <td>USA</td>\n",
       "      <td>124</td>\n",
       "      <td>1</td>\n",
       "      <td>1</td>\n",
       "      <td>0</td>\n",
       "      <td>0</td>\n",
       "      <td>0</td>\n",
       "      <td>1</td>\n",
       "      <td>...</td>\n",
       "      <td>1</td>\n",
       "      <td>0</td>\n",
       "      <td>0</td>\n",
       "      <td>0</td>\n",
       "      <td>2</td>\n",
       "      <td>2</td>\n",
       "      <td>0</td>\n",
       "      <td>2</td>\n",
       "      <td>0</td>\n",
       "      <td>0</td>\n",
       "    </tr>\n",
       "    <tr>\n",
       "      <th>2</th>\n",
       "      <td>0</td>\n",
       "      <td>49</td>\n",
       "      <td>USA</td>\n",
       "      <td>195</td>\n",
       "      <td>1</td>\n",
       "      <td>1</td>\n",
       "      <td>1</td>\n",
       "      <td>1</td>\n",
       "      <td>1</td>\n",
       "      <td>1</td>\n",
       "      <td>...</td>\n",
       "      <td>1</td>\n",
       "      <td>1</td>\n",
       "      <td>1</td>\n",
       "      <td>1</td>\n",
       "      <td>1</td>\n",
       "      <td>1</td>\n",
       "      <td>1</td>\n",
       "      <td>1</td>\n",
       "      <td>1</td>\n",
       "      <td>1</td>\n",
       "    </tr>\n",
       "    <tr>\n",
       "      <th>3</th>\n",
       "      <td>0</td>\n",
       "      <td>40</td>\n",
       "      <td>us</td>\n",
       "      <td>142</td>\n",
       "      <td>1</td>\n",
       "      <td>1</td>\n",
       "      <td>1</td>\n",
       "      <td>1</td>\n",
       "      <td>1</td>\n",
       "      <td>1</td>\n",
       "      <td>...</td>\n",
       "      <td>2</td>\n",
       "      <td>1</td>\n",
       "      <td>2</td>\n",
       "      <td>1</td>\n",
       "      <td>0</td>\n",
       "      <td>2</td>\n",
       "      <td>1</td>\n",
       "      <td>2</td>\n",
       "      <td>2</td>\n",
       "      <td>0</td>\n",
       "    </tr>\n",
       "    <tr>\n",
       "      <th>4</th>\n",
       "      <td>0</td>\n",
       "      <td>23</td>\n",
       "      <td>usa</td>\n",
       "      <td>147</td>\n",
       "      <td>2</td>\n",
       "      <td>0</td>\n",
       "      <td>1</td>\n",
       "      <td>1</td>\n",
       "      <td>1</td>\n",
       "      <td>1</td>\n",
       "      <td>...</td>\n",
       "      <td>1</td>\n",
       "      <td>0</td>\n",
       "      <td>1</td>\n",
       "      <td>0</td>\n",
       "      <td>2</td>\n",
       "      <td>2</td>\n",
       "      <td>0</td>\n",
       "      <td>2</td>\n",
       "      <td>2</td>\n",
       "      <td>2</td>\n",
       "    </tr>\n",
       "    <tr>\n",
       "      <th>6</th>\n",
       "      <td>0</td>\n",
       "      <td>53</td>\n",
       "      <td>usa</td>\n",
       "      <td>37</td>\n",
       "      <td>1</td>\n",
       "      <td>1</td>\n",
       "      <td>1</td>\n",
       "      <td>1</td>\n",
       "      <td>1</td>\n",
       "      <td>1</td>\n",
       "      <td>...</td>\n",
       "      <td>1</td>\n",
       "      <td>1</td>\n",
       "      <td>1</td>\n",
       "      <td>1</td>\n",
       "      <td>1</td>\n",
       "      <td>1</td>\n",
       "      <td>1</td>\n",
       "      <td>1</td>\n",
       "      <td>1</td>\n",
       "      <td>1</td>\n",
       "    </tr>\n",
       "  </tbody>\n",
       "</table>\n",
       "<p>5 rows × 72 columns</p>\n",
       "</div>"
      ],
      "text/plain": [
       "  Q2: GENDER Q3: AGE Q4: COUNTRY  Q5: STATE, PROVINCE, COUNTY, ETC  \\\n",
       "1          0      44        USA                                124   \n",
       "2          0      49         USA                               195   \n",
       "3          0      40          us                               142   \n",
       "4          0      23         usa                               147   \n",
       "6          0      53         usa                                37   \n",
       "\n",
       "  Q6 | 100 Grand Bar Q6 | Black Jacks Q6 | Bonkers (the candy)  \\\n",
       "1                  1                1                        0   \n",
       "2                  1                1                        1   \n",
       "3                  1                1                        1   \n",
       "4                  2                0                        1   \n",
       "6                  1                1                        1   \n",
       "\n",
       "  Q6 | Bottle Caps Q6 | Butterfinger Q6 | Cadbury Creme Eggs  ...  \\\n",
       "1                0                 0                       1  ...   \n",
       "2                1                 1                       1  ...   \n",
       "3                1                 1                       1  ...   \n",
       "4                1                 1                       1  ...   \n",
       "6                1                 1                       1  ...   \n",
       "\n",
       "  Q6 | Swedish Fish Q6 | Sweetums (a friend to diabetes) Q6 | Take 5  \\\n",
       "1                 1                                    0           0   \n",
       "2                 1                                    1           1   \n",
       "3                 2                                    1           2   \n",
       "4                 1                                    0           1   \n",
       "6                 1                                    1           1   \n",
       "\n",
       "  Q6 | Tic Tacs Q6 | Three Musketeers Q6 | Tolberone something or other  \\\n",
       "1             0                     2                                 2   \n",
       "2             1                     1                                 1   \n",
       "3             1                     0                                 2   \n",
       "4             0                     2                                 2   \n",
       "6             1                     1                                 1   \n",
       "\n",
       "  Q6 | Trail Mix Q6 | Twix Q6 | Whatchamacallit Bars  \\\n",
       "1              0         2                         0   \n",
       "2              1         1                         1   \n",
       "3              1         2                         2   \n",
       "4              0         2                         2   \n",
       "6              1         1                         1   \n",
       "\n",
       "  Q6 | York Peppermint Patties  \n",
       "1                            0  \n",
       "2                            1  \n",
       "3                            0  \n",
       "4                            2  \n",
       "6                            1  \n",
       "\n",
       "[5 rows x 72 columns]"
      ]
     },
     "execution_count": 126,
     "metadata": {},
     "output_type": "execute_result"
    }
   ],
   "source": [
    "# This for loop loops through every column in the data set\n",
    "for index in df.columns:\n",
    "    if index == 'Q2: GENDER':\n",
    "        # Gender fill in | Creating a third option of other/nan\n",
    "        df[index] = df[index].fillna(2)\n",
    "    elif index == 'Q3: AGE':\n",
    "        # Age fill in | Age must be normalized for this to work (no strings)\n",
    "        df[index] = df[index].fillna(df[index].mean())\n",
    "        pass\n",
    "    elif index == 'Q5: STATE, PROVINCE, COUNTY, ETC':\n",
    "        # Country & State/Province fill in | Creating a third option of other/nan\n",
    "        df[index] = df[index].fillna(2)  \n",
    "    else: # If it is in the candy column\n",
    "        df[index] = df[index].fillna(1)\n",
    "\n",
    "df.head()"
   ]
  }
 ],
 "metadata": {
  "interpreter": {
   "hash": "0f90a3ab1965d6b9c6f93d33fe8507cc150802699b5d1025341132004af4d075"
  },
  "kernelspec": {
   "display_name": "Python 3.8.8 ('base')",
   "language": "python",
   "name": "python3"
  },
  "language_info": {
   "codemirror_mode": {
    "name": "ipython",
    "version": 3
   },
   "file_extension": ".py",
   "mimetype": "text/x-python",
   "name": "python",
   "nbconvert_exporter": "python",
   "pygments_lexer": "ipython3",
   "version": "3.8.8"
  },
  "orig_nbformat": 4
 },
 "nbformat": 4,
 "nbformat_minor": 2
}
