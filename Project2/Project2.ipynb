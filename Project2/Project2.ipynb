{
 "cells": [
  {
   "cell_type": "code",
   "execution_count": 74,
   "id": "336b82e1",
   "metadata": {},
   "outputs": [],
   "source": [
    "import csv \n",
    "import pandas as pd\n",
    "import numpy as np\n",
    "\n",
    "dataframe = pd.read_csv('Labs/data/auto-mpg.csv', na_values=['NA','?'])"
   ]
  },
  {
   "cell_type": "code",
   "execution_count": 75,
   "id": "cc045b86",
   "metadata": {},
   "outputs": [],
   "source": [
    "import collections\n",
    "from sklearn import preprocessing\n",
    "from sklearn.model_selection import train_test_split\n",
    "from sklearn import linear_model\n",
    "from tensorflow.keras.models import Sequential\n",
    "from tensorflow.keras.layers import Dense, Activation\n",
    "from sklearn import metrics\n",
    "from sklearn.metrics import mean_squared_error, r2_score\n",
    "import matplotlib.pyplot as plt\n",
    "import shutil\n",
    "import os\n",
    "\n",
    "\n",
    "# Encode text values to dummy variables(i.e. [1,0,0],[0,1,0],[0,0,1] for red,green,blue)\n",
    "def encode_text_dummy(df, name):\n",
    "    dummies = pd.get_dummies(df[name])\n",
    "    for x in dummies.columns:\n",
    "        dummy_name = \"{}-{}\".format(name, x)\n",
    "        df[dummy_name] = dummies[x]\n",
    "    df.drop(name, axis=1, inplace=True)\n",
    "\n",
    "\n",
    "# Encode text values to indexes(i.e. [1],[2],[3] for red,green,blue).\n",
    "def encode_text_index(df, name):\n",
    "    le = preprocessing.LabelEncoder()\n",
    "    df[name] = le.fit_transform(df[name])\n",
    "    return le.classes_\n",
    "\n",
    "\n",
    "# Encode a numeric column as zscores\n",
    "def encode_numeric_zscore(df, name, mean=None, sd=None):\n",
    "    if mean is None:\n",
    "        mean = df[name].mean()\n",
    "\n",
    "    if sd is None:\n",
    "        sd = df[name].std()\n",
    "\n",
    "    df[name] = (df[name] - mean) / sd\n",
    "\n",
    "\n",
    "# Convert all missing values in the specified column to the median\n",
    "def missing_median(df, name):\n",
    "    med = df[name].median()\n",
    "    df[name] = df[name].fillna(med)\n",
    "\n",
    "\n",
    "# Convert all missing values in the specified column to the default\n",
    "def missing_default(df, name, default_value):\n",
    "    df[name] = df[name].fillna(default_value)\n",
    "\n",
    "\n",
    "# Convert a Pandas dataframe to the x,y inputs that TensorFlow needs\n",
    "def to_xy(df, target):\n",
    "    result = []\n",
    "    for x in df.columns:\n",
    "        if x != target:\n",
    "            result.append(x)\n",
    "    # find out the type of the target column. \n",
    "    target_type = df[target].dtypes\n",
    "    target_type = target_type[0] if isinstance(target_type, collections.Sequence) else target_type\n",
    "    # Encode to int for classification, float otherwise. TensorFlow likes 32 bits.\n",
    "    if target_type in (np.int64, np.int32):\n",
    "        # Classification\n",
    "        dummies = pd.get_dummies(df[target])\n",
    "        return df[result].values.astype(np.float32), dummies.values.astype(np.float32)\n",
    "    else:\n",
    "        # Regression\n",
    "        return df[result].values.astype(np.float32), df[target].values.astype(np.float32)\n",
    "\n",
    "# Nicely formatted time string\n",
    "def hms_string(sec_elapsed):\n",
    "    h = int(sec_elapsed / (60 * 60))\n",
    "    m = int((sec_elapsed % (60 * 60)) / 60)\n",
    "    s = sec_elapsed % 60\n",
    "    return \"{}:{:>02}:{:>05.2f}\".format(h, m, s)\n",
    "\n",
    "\n",
    "# Regression chart.\n",
    "def chart_regression(pred,y,sort=True):\n",
    "    t = pd.DataFrame({'pred' : pred, 'y' : y.flatten()})\n",
    "    if sort:\n",
    "        t.sort_values(by=['y'],inplace=True)\n",
    "    a = plt.plot(t['y'].tolist(),label='expected')\n",
    "    b = plt.plot(t['pred'].tolist(),label='prediction')\n",
    "    plt.ylabel('output')\n",
    "    plt.legend()\n",
    "    plt.show()\n",
    "\n",
    "# Remove all rows where the specified column is +/- sd standard deviations\n",
    "def remove_outliers(df, name, sd):\n",
    "    drop_rows = df.index[(np.abs(df[name] - df[name].mean()) >= (sd * df[name].std()))]\n",
    "    df.drop(drop_rows, axis=0, inplace=True)\n",
    "\n",
    "\n",
    "# Encode a column to a range between normalized_low and normalized_high.\n",
    "def encode_numeric_range(df, name, normalized_low=-1, normalized_high=1,\n",
    "                         data_low=None, data_high=None):\n",
    "    if data_low is None:\n",
    "        data_low = min(df[name])\n",
    "        data_high = max(df[name])\n",
    "\n",
    "    df[name] = ((df[name] - data_low) / (data_high - data_low)) * (normalized_high - normalized_low) + normalized_low"
   ]
  },
  {
   "cell_type": "code",
   "execution_count": 76,
   "id": "e4b3d3e3",
   "metadata": {},
   "outputs": [
    {
     "name": "stderr",
     "output_type": "stream",
     "text": [
      "<ipython-input-76-1affd3ae97f5>:3: FutureWarning: In a future version of pandas all arguments of DataFrame.drop except for the argument 'labels' will be keyword-only.\n",
      "  dataframe.drop('name',1,inplace=True)\n"
     ]
    }
   ],
   "source": [
    "cars = dataframe['name']\n",
    "\n",
    "dataframe.drop('name',1,inplace=True)\n",
    "\n",
    "missing_median(dataframe, 'horsepower')\n",
    "\n",
    "encode_text_dummy(dataframe, 'origin')\n",
    "\n",
    "x,y = to_xy(dataframe,\"mpg\")"
   ]
  },
  {
   "cell_type": "code",
   "execution_count": 77,
   "id": "7efe76c2",
   "metadata": {},
   "outputs": [],
   "source": [
    "x_train, x_test, y_train, y_test = train_test_split(x,y, test_size=0.3, random_state=42)"
   ]
  },
  {
   "cell_type": "code",
   "execution_count": 78,
   "id": "1a364dc4",
   "metadata": {},
   "outputs": [
    {
     "data": {
      "text/plain": [
       "LinearRegression()"
      ]
     },
     "execution_count": 78,
     "metadata": {},
     "output_type": "execute_result"
    }
   ],
   "source": [
    "# Create linear regression object\n",
    "model = linear_model.LinearRegression()\n",
    "model.fit(x_train, y_train)"
   ]
  },
  {
   "cell_type": "code",
   "execution_count": 79,
   "id": "77308b43",
   "metadata": {},
   "outputs": [],
   "source": [
    "pred = model.predict(x_test)"
   ]
  },
  {
   "cell_type": "code",
   "execution_count": 80,
   "id": "d0126468",
   "metadata": {},
   "outputs": [
    {
     "name": "stdout",
     "output_type": "stream",
     "text": [
      "True MPG :  33.0 Prediction :  32.591156\n",
      "True MPG :  28.0 Prediction :  29.21645\n",
      "True MPG :  19.0 Prediction :  20.805851\n",
      "True MPG :  13.0 Prediction :  16.829762\n",
      "True MPG :  14.0 Prediction :  12.529545\n",
      "True MPG :  27.0 Prediction :  26.99945\n",
      "True MPG :  24.0 Prediction :  27.49215\n",
      "True MPG :  13.0 Prediction :  9.832294\n",
      "True MPG :  17.0 Prediction :  17.067535\n",
      "True MPG :  21.0 Prediction :  21.740635\n"
     ]
    }
   ],
   "source": [
    "for i in range(10):\n",
    "    print(\"True MPG : \",y_test[i],\"Prediction : \", pred[i])"
   ]
  },
  {
   "cell_type": "code",
   "execution_count": 81,
   "id": "ea010ae7",
   "metadata": {},
   "outputs": [
    {
     "name": "stdout",
     "output_type": "stream",
     "text": [
      "Final score (RMSE): 3.0320844650268555\n"
     ]
    }
   ],
   "source": [
    "# Measure RMSE error.  RMSE is common for regression.\n",
    "score = np.sqrt(metrics.mean_squared_error(pred,y_test))\n",
    "print(\"Final score (RMSE): {}\".format(score))"
   ]
  },
  {
   "cell_type": "code",
   "execution_count": 82,
   "id": "2a95bf75",
   "metadata": {},
   "outputs": [
    {
     "name": "stdout",
     "output_type": "stream",
     "text": [
      "1. Car name: chevrolet chevelle malibu, MPG: 33.0, predicted MPG: 32.591156005859375\n",
      "2. Car name: buick skylark 320, MPG: 28.0, predicted MPG: 29.216449737548828\n",
      "3. Car name: plymouth satellite, MPG: 19.0, predicted MPG: 20.805850982666016\n",
      "4. Car name: amc rebel sst, MPG: 13.0, predicted MPG: 16.829761505126953\n",
      "5. Car name: ford torino, MPG: 14.0, predicted MPG: 12.529544830322266\n",
      "6. Car name: ford galaxie 500, MPG: 27.0, predicted MPG: 26.99945068359375\n",
      "7. Car name: chevrolet impala, MPG: 24.0, predicted MPG: 27.492149353027344\n",
      "8. Car name: plymouth fury iii, MPG: 13.0, predicted MPG: 9.832294464111328\n",
      "9. Car name: pontiac catalina, MPG: 17.0, predicted MPG: 17.067535400390625\n",
      "10. Car name: amc ambassador dpl, MPG: 21.0, predicted MPG: 21.74063491821289\n",
      "11. Car name: dodge challenger se, MPG: 15.0, predicted MPG: 12.620494842529297\n",
      "12. Car name: plymouth 'cuda 340, MPG: 38.0, predicted MPG: 35.94993591308594\n",
      "13. Car name: chevrolet monte carlo, MPG: 26.0, predicted MPG: 24.710723876953125\n",
      "14. Car name: buick estate wagon (sw), MPG: 15.0, predicted MPG: 13.635513305664062\n",
      "15. Car name: toyota corona mark ii, MPG: 25.0, predicted MPG: 23.34387969970703\n",
      "16. Car name: plymouth duster, MPG: 12.0, predicted MPG: 6.293392181396484\n",
      "17. Car name: amc hornet, MPG: 31.0, predicted MPG: 29.127620697021484\n",
      "18. Car name: ford maverick, MPG: 17.0, predicted MPG: 25.183109283447266\n",
      "19. Car name: datsun pl510, MPG: 16.0, predicted MPG: 16.324176788330078\n",
      "20. Car name: volkswagen 1131 deluxe sedan, MPG: 31.0, predicted MPG: 36.220237731933594\n"
     ]
    }
   ],
   "source": [
    "for i in range(20):\n",
    "    print(\"{}. Car name: {}, MPG: {}, predicted MPG: {}\".format(i+1,cars[i],y_test[i],pred[i]))"
   ]
  },
  {
   "cell_type": "code",
   "execution_count": 83,
   "id": "09257615",
   "metadata": {},
   "outputs": [
    {
     "name": "stdout",
     "output_type": "stream",
     "text": [
      "Root mean squared error = 3.0321\n",
      "R-squared = 0.8398\n"
     ]
    },
    {
     "data": {
      "image/png": "[encoded data removed]",
      "text/plain": [
       "<Figure size 432x288 with 1 Axes>"
      ]
     },
     "metadata": {
      "needs_background": "light"
     },
     "output_type": "display_data"
    }
   ],
   "source": [
    "# Comparing true versus predicted values\n",
    "plt.scatter(y_test, pred, color='black')\n",
    "plt.plot(y_test, y_test, color='blue', linewidth=3)\n",
    "plt.title('Comparing true and predicted values for test set')\n",
    "plt.xlabel('True values for y')\n",
    "plt.ylabel('Predicted values for y')\n",
    "\n",
    "# Model evaluation\n",
    "print(\"Root mean squared error = %.4f\" % np.sqrt(mean_squared_error(y_test, pred)))\n",
    "print('R-squared = %.4f' % r2_score(y_test, pred))"
   ]
  },
  {
   "cell_type": "code",
   "execution_count": 24,
   "id": "8d5e2577",
   "metadata": {},
   "outputs": [
    {
     "data": {
      "image/png": "[encoded data removed]",
      "text/plain": [
       "<Figure size 432x288 with 1 Axes>"
      ]
     },
     "metadata": {
      "needs_background": "light"
     },
     "output_type": "display_data"
    }
   ],
   "source": [
    "chart_regression(pred, y_test)"
   ]
  },
  {
   "cell_type": "code",
   "execution_count": 84,
   "id": "61a77cab",
   "metadata": {},
   "outputs": [
    {
     "data": {
      "text/plain": [
       "Text(0.5, 1.0, 'Correlation between X4 and X5 = 0.9509')"
      ]
     },
     "execution_count": 84,
     "metadata": {},
     "output_type": "execute_result"
    },
    {
     "data": {
      "image/png": "[encoded data removed]",
      "text/plain": [
       "<Figure size 864x648 with 4 Axes>"
      ]
     },
     "metadata": {
      "needs_background": "light"
     },
     "output_type": "display_data"
    }
   ],
   "source": [
    "seed = 1\n",
    "np.random.seed(seed)\n",
    "x2 = 0.5*x + np.random.normal(0, 0.04, size=y.shape[0]).reshape(-1,1)\n",
    "x3 = 0.5*x2 + np.random.normal(0, 0.01, size=y.shape[0]).reshape(-1,1)\n",
    "x4 = 0.5*x3 + np.random.normal(0, 0.01, size=y.shape[0]).reshape(-1,1)\n",
    "x5 = 0.5*x4 + np.random.normal(0, 0.01, size=y.shape[0]).reshape(-1,1)\n",
    "\n",
    "fig, ((ax1, ax2),(ax3,ax4)) = plt.subplots(2, 2, figsize=(12,9))\n",
    "ax1.scatter(x, x2, color='black')\n",
    "ax1.set_xlabel('X')\n",
    "ax1.set_ylabel('X2')\n",
    "c = np.corrcoef(np.column_stack((x[:-y_test.shape[0]],x2[:-y_test.shape[0]])).T)\n",
    "titlestr = 'Correlation between X and X2 = %.4f' % (c[0,1])\n",
    "ax1.set_title(titlestr)\n",
    "\n",
    "ax2.scatter(x2, x3, color='black')\n",
    "ax2.set_xlabel('X2')\n",
    "ax2.set_ylabel('X3')\n",
    "c = np.corrcoef(np.column_stack((x2[:-y_test.shape[0]],x3[:-y_test.shape[0]])).T)\n",
    "titlestr = 'Correlation between X2 and X3 = %.4f' % (c[0,1])\n",
    "ax2.set_title(titlestr)\n",
    "\n",
    "ax3.scatter(x3, x4, color='black')\n",
    "ax3.set_xlabel('X3')\n",
    "ax3.set_ylabel('X4')\n",
    "c = np.corrcoef(np.column_stack((x3[:-y_test.shape[0]],x4[:-y_test.shape[0]])).T)\n",
    "titlestr = 'Correlation between X3 and X4 = %.4f' % (c[0,1])\n",
    "ax3.set_title(titlestr)\n",
    "\n",
    "ax4.scatter(x4, x5, color='black')\n",
    "ax4.set_xlabel('X4')\n",
    "ax4.set_ylabel('X5')\n",
    "c = np.corrcoef(np.column_stack((x4[:-y_test.shape[0]],x5[:-y_test.shape[0]])).T)\n",
    "titlestr = 'Correlation between X4 and X5 = %.4f' % (c[0,1])\n",
    "ax4.set_title(titlestr)"
   ]
  },
  {
   "cell_type": "code",
   "execution_count": 85,
   "id": "a40f0e7c",
   "metadata": {},
   "outputs": [],
   "source": [
    "X_train2 = np.column_stack((x[:-y_test.shape[0]],x2[:-y_test.shape[0]]))\n",
    "X_test2 = np.column_stack((x[-y_test.shape[0]:],x2[-y_test.shape[0]:]))\n",
    "X_train3 = np.column_stack((x[:-y_test.shape[0]],x2[:-y_test.shape[0]],x3[:-y_test.shape[0]]))\n",
    "X_test3 = np.column_stack((x[-y_test.shape[0]:],x2[-y_test.shape[0]:],x3[-y_test.shape[0]:]))\n",
    "X_train4 = np.column_stack((x[:-y_test.shape[0]],x2[:-y_test.shape[0]],x3[:-y_test.shape[0]],x4[:-y_test.shape[0]]))\n",
    "X_test4 = np.column_stack((x[-y_test.shape[0]:],x2[-y_test.shape[0]:],x3[-y_test.shape[0]:],x4[-y_test.shape[0]:]))\n",
    "X_train5 = np.column_stack((x[:-y_test.shape[0]],x2[:-y_test.shape[0]],x3[:-y_test.shape[0]],x4[:-y_test.shape[0]],x5[:-y_test.shape[0]]))\n",
    "X_test5 = np.column_stack((x[-y_test.shape[0]:],x2[-y_test.shape[0]:],x3[-y_test.shape[0]:],x4[-y_test.shape[0]:],x5[-y_test.shape[0]:]))"
   ]
  },
  {
   "cell_type": "code",
   "execution_count": 86,
   "id": "fd06fca2",
   "metadata": {},
   "outputs": [
    {
     "data": {
      "text/plain": [
       "LinearRegression()"
      ]
     },
     "execution_count": 86,
     "metadata": {},
     "output_type": "execute_result"
    }
   ],
   "source": [
    "regr2 = linear_model.LinearRegression()\n",
    "regr2.fit(X_train2, y_train)\n",
    "\n",
    "regr3 = linear_model.LinearRegression()\n",
    "regr3.fit(X_train3, y_train)\n",
    "\n",
    "regr4 = linear_model.LinearRegression()\n",
    "regr4.fit(X_train4, y_train)\n",
    "\n",
    "regr5 = linear_model.LinearRegression()\n",
    "regr5.fit(X_train5, y_train)"
   ]
  },
  {
   "cell_type": "code",
   "execution_count": 87,
   "id": "23cc4b92",
   "metadata": {},
   "outputs": [],
   "source": [
    "y_pred_train = model.predict(x_train)\n",
    "y_pred_test = model.predict(x_test)\n",
    "y_pred_train2 = regr2.predict(X_train2)\n",
    "y_pred_test2 = regr2.predict(X_test2)\n",
    "y_pred_train3 = regr3.predict(X_train3)\n",
    "y_pred_test3 = regr3.predict(X_test3)\n",
    "y_pred_train4 = regr4.predict(X_train4)\n",
    "y_pred_test4 = regr4.predict(X_test4)\n",
    "y_pred_train5 = regr5.predict(X_train5)\n",
    "y_pred_test5 = regr5.predict(X_test5)"
   ]
  },
  {
   "cell_type": "code",
   "execution_count": 89,
   "id": "88ac3017",
   "metadata": {},
   "outputs": [
    {
     "ename": "IndexError",
     "evalue": "invalid index to scalar variable.",
     "output_type": "error",
     "traceback": [
      "\u001b[1;31m---------------------------------------------------------------------------\u001b[0m",
      "\u001b[1;31mIndexError\u001b[0m                                Traceback (most recent call last)",
      "\u001b[1;32m<ipython-input-89-80e9dd040c02>\u001b[0m in \u001b[0;36m<module>\u001b[1;34m\u001b[0m\n\u001b[0;32m      1\u001b[0m \u001b[0mcolumns\u001b[0m \u001b[1;33m=\u001b[0m \u001b[1;33m[\u001b[0m\u001b[1;34m'Model'\u001b[0m\u001b[1;33m,\u001b[0m \u001b[1;34m'Train error'\u001b[0m\u001b[1;33m,\u001b[0m \u001b[1;34m'Test error'\u001b[0m\u001b[1;33m,\u001b[0m \u001b[1;34m'Sum of Absolute Weights'\u001b[0m\u001b[1;33m]\u001b[0m\u001b[1;33m\u001b[0m\u001b[1;33m\u001b[0m\u001b[0m\n\u001b[1;32m----> 2\u001b[1;33m \u001b[0mmodel1\u001b[0m \u001b[1;33m=\u001b[0m \u001b[1;34m\"%.2f X + %.2f\"\u001b[0m \u001b[1;33m%\u001b[0m \u001b[1;33m(\u001b[0m\u001b[0mmodel\u001b[0m\u001b[1;33m.\u001b[0m\u001b[0mcoef_\u001b[0m\u001b[1;33m[\u001b[0m\u001b[1;36m0\u001b[0m\u001b[1;33m]\u001b[0m\u001b[1;33m[\u001b[0m\u001b[1;36m0\u001b[0m\u001b[1;33m]\u001b[0m\u001b[1;33m,\u001b[0m \u001b[0mmodel\u001b[0m\u001b[1;33m.\u001b[0m\u001b[0mintercept_\u001b[0m\u001b[1;33m[\u001b[0m\u001b[1;36m0\u001b[0m\u001b[1;33m]\u001b[0m\u001b[1;33m)\u001b[0m\u001b[1;33m\u001b[0m\u001b[1;33m\u001b[0m\u001b[0m\n\u001b[0m\u001b[0;32m      3\u001b[0m values1 = [ model1, np.sqrt(mean_squared_error(y_train, y_pred_train)), \n\u001b[0;32m      4\u001b[0m            \u001b[0mnp\u001b[0m\u001b[1;33m.\u001b[0m\u001b[0msqrt\u001b[0m\u001b[1;33m(\u001b[0m\u001b[0mmean_squared_error\u001b[0m\u001b[1;33m(\u001b[0m\u001b[0my_test\u001b[0m\u001b[1;33m,\u001b[0m \u001b[0my_pred_test\u001b[0m\u001b[1;33m)\u001b[0m\u001b[1;33m)\u001b[0m\u001b[1;33m,\u001b[0m\u001b[1;33m\u001b[0m\u001b[1;33m\u001b[0m\u001b[0m\n\u001b[0;32m      5\u001b[0m            np.absolute(model.coef_[0]).sum() + np.absolute(model.intercept_)]\n",
      "\u001b[1;31mIndexError\u001b[0m: invalid index to scalar variable."
     ]
    }
   ],
   "source": [
    "columns = ['Model', 'Train error', 'Test error', 'Sum of Absolute Weights']\n",
    "model1 = \"%.2f X + %.2f\" % (model.coef_[0][0], model.intercept_[0])\n",
    "values1 = [ model1, np.sqrt(mean_squared_error(y_train, y_pred_train)), \n",
    "           np.sqrt(mean_squared_error(y_test, y_pred_test)),\n",
    "           np.absolute(model.coef_[0]).sum() + np.absolute(model.intercept_)]\n",
    "\n",
    "model2 = \"%.2f X + %.2f X2 + %.2f\" % (regr2.coef_[0][0], regr2.coef_[0][1], regr2.intercept_[0])\n",
    "values2 = [ model2, np.sqrt(mean_squared_error(y_train, y_pred_train2)), \n",
    "           np.sqrt(mean_squared_error(y_test, y_pred_test2)),\n",
    "           np.absolute(regr2.coef_[0]).sum() + np.absolute(regr2.intercept_[0])]\n",
    "\n",
    "model3 = \"%.2f X + %.2f X2 + %.2f X3 + %.2f\" % (regr3.coef_[0][0], regr3.coef_[0][1], \n",
    "                                                regr3.coef_[0][2], regr3.intercept_[0])\n",
    "values3 = [ model3, np.sqrt(mean_squared_error(y_train, y_pred_train3)), \n",
    "           np.sqrt(mean_squared_error(y_test, y_pred_test3)),\n",
    "           np.absolute(regr3.coef_[0]).sum() + np.absolute(regr3.intercept_[0])]\n",
    "\n",
    "model4 = \"%.2f X + %.2f X2 + %.2f X3 + %.2f X4 + %.2f\" % (regr4.coef_[0][0], regr4.coef_[0][1], \n",
    "                                        regr4.coef_[0][2], regr4.coef_[0][3], regr4.intercept_[0])\n",
    "values4 = [ model4, np.sqrt(mean_squared_error(y_train, y_pred_train4)), \n",
    "           np.sqrt(mean_squared_error(y_test, y_pred_test4)),\n",
    "           np.absolute(regr4.coef_[0]).sum() + np.absolute(regr4.intercept_[0])]\n",
    "\n",
    "model5 = \"%.2f X + %.2f X2 + %.2f X3 + %.2f X4 + %.2f X5 + %.2f\" % (regr5.coef_[0][0], \n",
    "                                        regr5.coef_[0][1], regr5.coef_[0][2], \n",
    "                                        regr5.coef_[0][3], regr5.coef_[0][4], regr5.intercept_[0])\n",
    "values5 = [ model5, np.sqrt(mean_squared_error(y_train, y_pred_train5)), \n",
    "           np.sqrt(mean_squared_error(y_test, y_pred_test5)),\n",
    "           np.absolute(regr5.coef_[0]).sum() + np.absolute(regr5.intercept_[0])]\n",
    "\n",
    "results = pd.DataFrame([values1, values2, values3, values4, values5], columns=columns)\n",
    "\n",
    "plt.plot(results['Sum of Absolute Weights'], results['Train error'], 'ro-')\n",
    "plt.plot(results['Sum of Absolute Weights'], results['Test error'], 'k*--')\n",
    "plt.legend(['Train error', 'Test error'])\n",
    "plt.xlabel('Sum of Absolute Weights')\n",
    "plt.ylabel('Error rate')\n",
    "\n",
    "results"
   ]
  },
  {
   "cell_type": "code",
   "execution_count": 40,
   "id": "3e51441a",
   "metadata": {},
   "outputs": [
    {
     "name": "stdout",
     "output_type": "stream",
     "text": [
      "Slope =  0.011774411\n",
      "Intercept =  -21.08006\n"
     ]
    },
    {
     "data": {
      "text/plain": [
       "Text(0, 0.5, 'y')"
      ]
     },
     "execution_count": 40,
     "metadata": {},
     "output_type": "execute_result"
    },
    {
     "data": {
      "image/png": "[encoded data removed]",
      "text/plain": [
       "<Figure size 432x288 with 1 Axes>"
      ]
     },
     "metadata": {
      "needs_background": "light"
     },
     "output_type": "display_data"
    }
   ],
   "source": [
    "# Display model parameters\n",
    "print('Slope = ', model.coef_[0])\n",
    "print('Intercept = ', model.intercept_)### Step 4: Postprocessing\n",
    "\n",
    "# Plot outputs\n",
    "plt.scatter(y_test, pred,  color='black')\n",
    "plt.plot(x_test, pred, color='blue', linewidth=3)\n",
    "titlestr = 'Predicted Function: y = %.2fX + %.2f' % (model.coef_[0], model.intercept_)\n",
    "plt.title(titlestr)\n",
    "plt.xlabel('X')\n",
    "plt.ylabel('y')"
   ]
  },
  {
   "cell_type": "code",
   "execution_count": 27,
   "id": "020e5073",
   "metadata": {},
   "outputs": [
    {
     "name": "stdout",
     "output_type": "stream",
     "text": [
      "Epoch 1/100\n",
      "9/9 [==============================] - 0s 666us/step - loss: 14176.4033\n",
      "Epoch 2/100\n",
      "9/9 [==============================] - 0s 554us/step - loss: 4810.5449\n",
      "Epoch 3/100\n",
      "9/9 [==============================] - 0s 664us/step - loss: 1067.1697\n",
      "Epoch 4/100\n",
      "9/9 [==============================] - 0s 666us/step - loss: 1215.7904\n",
      "Epoch 5/100\n",
      "9/9 [==============================] - 0s 516us/step - loss: 690.9669\n",
      "Epoch 6/100\n",
      "9/9 [==============================] - 0s 557us/step - loss: 566.7703\n",
      "Epoch 7/100\n",
      "9/9 [==============================] - 0s 888us/step - loss: 531.7402\n",
      "Epoch 8/100\n",
      "9/9 [==============================] - 0s 555us/step - loss: 494.4036\n",
      "Epoch 9/100\n",
      "9/9 [==============================] - 0s 666us/step - loss: 492.9238\n",
      "Epoch 10/100\n",
      "9/9 [==============================] - 0s 555us/step - loss: 464.7313\n",
      "Epoch 11/100\n",
      "9/9 [==============================] - 0s 666us/step - loss: 456.1600\n",
      "Epoch 12/100\n",
      "9/9 [==============================] - 0s 555us/step - loss: 458.3199\n",
      "Epoch 13/100\n",
      "9/9 [==============================] - 0s 666us/step - loss: 433.6571\n",
      "Epoch 14/100\n",
      "9/9 [==============================] - 0s 777us/step - loss: 419.5879\n",
      "Epoch 15/100\n",
      "9/9 [==============================] - 0s 777us/step - loss: 406.5071\n",
      "Epoch 16/100\n",
      "9/9 [==============================] - 0s 666us/step - loss: 397.0638\n",
      "Epoch 17/100\n",
      "9/9 [==============================] - 0s 666us/step - loss: 384.3360\n",
      "Epoch 18/100\n",
      "9/9 [==============================] - 0s 777us/step - loss: 372.7328\n",
      "Epoch 19/100\n",
      "9/9 [==============================] - 0s 666us/step - loss: 362.3948\n",
      "Epoch 20/100\n",
      "9/9 [==============================] - 0s 555us/step - loss: 359.4049\n",
      "Epoch 21/100\n",
      "9/9 [==============================] - 0s 555us/step - loss: 344.9655\n",
      "Epoch 22/100\n",
      "9/9 [==============================] - 0s 666us/step - loss: 327.8492\n",
      "Epoch 23/100\n",
      "9/9 [==============================] - 0s 666us/step - loss: 317.5605\n",
      "Epoch 24/100\n",
      "9/9 [==============================] - 0s 666us/step - loss: 306.4790\n",
      "Epoch 25/100\n",
      "9/9 [==============================] - 0s 666us/step - loss: 306.4149\n",
      "Epoch 26/100\n",
      "9/9 [==============================] - 0s 666us/step - loss: 290.7149\n",
      "Epoch 27/100\n",
      "9/9 [==============================] - 0s 666us/step - loss: 289.3614\n",
      "Epoch 28/100\n",
      "9/9 [==============================] - 0s 555us/step - loss: 270.9331\n",
      "Epoch 29/100\n",
      "9/9 [==============================] - 0s 555us/step - loss: 257.3395\n",
      "Epoch 30/100\n",
      "9/9 [==============================] - 0s 444us/step - loss: 245.8041\n",
      "Epoch 31/100\n",
      "9/9 [==============================] - 0s 777us/step - loss: 234.8208\n",
      "Epoch 32/100\n",
      "9/9 [==============================] - 0s 555us/step - loss: 226.4108\n",
      "Epoch 33/100\n",
      "9/9 [==============================] - 0s 666us/step - loss: 215.9120\n",
      "Epoch 34/100\n",
      "9/9 [==============================] - 0s 555us/step - loss: 206.6679\n",
      "Epoch 35/100\n",
      "9/9 [==============================] - 0s 666us/step - loss: 203.1233\n",
      "Epoch 36/100\n",
      "9/9 [==============================] - 0s 666us/step - loss: 188.8490\n",
      "Epoch 37/100\n",
      "9/9 [==============================] - 0s 666us/step - loss: 182.6649\n",
      "Epoch 38/100\n",
      "9/9 [==============================] - 0s 777us/step - loss: 177.9788\n",
      "Epoch 39/100\n",
      "9/9 [==============================] - 0s 888us/step - loss: 170.0407\n",
      "Epoch 40/100\n",
      "9/9 [==============================] - 0s 666us/step - loss: 163.7595\n",
      "Epoch 41/100\n",
      "9/9 [==============================] - 0s 777us/step - loss: 151.1760\n",
      "Epoch 42/100\n",
      "9/9 [==============================] - 0s 555us/step - loss: 144.3657\n",
      "Epoch 43/100\n",
      "9/9 [==============================] - 0s 555us/step - loss: 137.9498\n",
      "Epoch 44/100\n",
      "9/9 [==============================] - 0s 666us/step - loss: 131.5533\n",
      "Epoch 45/100\n",
      "9/9 [==============================] - 0s 555us/step - loss: 126.5943\n",
      "Epoch 46/100\n",
      "9/9 [==============================] - 0s 666us/step - loss: 125.8171\n",
      "Epoch 47/100\n",
      "9/9 [==============================] - 0s 555us/step - loss: 114.9974\n",
      "Epoch 48/100\n",
      "9/9 [==============================] - 0s 666us/step - loss: 108.5092\n",
      "Epoch 49/100\n",
      "9/9 [==============================] - 0s 666us/step - loss: 104.4061\n",
      "Epoch 50/100\n",
      "9/9 [==============================] - 0s 555us/step - loss: 102.1749\n",
      "Epoch 51/100\n",
      "9/9 [==============================] - 0s 555us/step - loss: 98.1280\n",
      "Epoch 52/100\n",
      "9/9 [==============================] - 0s 888us/step - loss: 94.5735\n",
      "Epoch 53/100\n",
      "9/9 [==============================] - 0s 666us/step - loss: 90.2495\n",
      "Epoch 54/100\n",
      "9/9 [==============================] - 0s 777us/step - loss: 87.7554\n",
      "Epoch 55/100\n",
      "9/9 [==============================] - 0s 666us/step - loss: 80.3351\n",
      "Epoch 56/100\n",
      "9/9 [==============================] - 0s 1ms/step - loss: 73.8516\n",
      "Epoch 57/100\n",
      "9/9 [==============================] - 0s 777us/step - loss: 71.6498\n",
      "Epoch 58/100\n",
      "9/9 [==============================] - 0s 777us/step - loss: 70.3068\n",
      "Epoch 59/100\n",
      "9/9 [==============================] - 0s 777us/step - loss: 63.5577\n",
      "Epoch 60/100\n",
      "9/9 [==============================] - 0s 555us/step - loss: 60.7779\n",
      "Epoch 61/100\n",
      "9/9 [==============================] - 0s 777us/step - loss: 58.0691\n",
      "Epoch 62/100\n",
      "9/9 [==============================] - 0s 666us/step - loss: 55.4740\n",
      "Epoch 63/100\n",
      "9/9 [==============================] - 0s 777us/step - loss: 53.1699\n",
      "Epoch 64/100\n",
      "9/9 [==============================] - 0s 666us/step - loss: 52.4840\n",
      "Epoch 65/100\n",
      "9/9 [==============================] - 0s 777us/step - loss: 52.2612\n",
      "Epoch 66/100\n",
      "9/9 [==============================] - 0s 555us/step - loss: 47.5847\n",
      "Epoch 67/100\n",
      "9/9 [==============================] - 0s 666us/step - loss: 45.5155\n",
      "Epoch 68/100\n",
      "9/9 [==============================] - 0s 666us/step - loss: 45.2738\n",
      "Epoch 69/100\n",
      "9/9 [==============================] - 0s 555us/step - loss: 43.6382\n",
      "Epoch 70/100\n",
      "9/9 [==============================] - 0s 777us/step - loss: 40.0999\n",
      "Epoch 71/100\n",
      "9/9 [==============================] - 0s 777us/step - loss: 39.6669\n",
      "Epoch 72/100\n",
      "9/9 [==============================] - 0s 666us/step - loss: 38.6284\n",
      "Epoch 73/100\n",
      "9/9 [==============================] - 0s 666us/step - loss: 38.1118\n",
      "Epoch 74/100\n",
      "9/9 [==============================] - 0s 555us/step - loss: 36.4777\n",
      "Epoch 75/100\n",
      "9/9 [==============================] - 0s 555us/step - loss: 35.5023\n",
      "Epoch 76/100\n",
      "9/9 [==============================] - 0s 666us/step - loss: 34.4188\n",
      "Epoch 77/100\n",
      "9/9 [==============================] - 0s 777us/step - loss: 33.9117\n",
      "Epoch 78/100\n",
      "9/9 [==============================] - 0s 776us/step - loss: 33.3700\n",
      "Epoch 79/100\n",
      "9/9 [==============================] - 0s 555us/step - loss: 33.3881\n",
      "Epoch 80/100\n",
      "9/9 [==============================] - 0s 777us/step - loss: 31.2800\n",
      "Epoch 81/100\n",
      "9/9 [==============================] - 0s 777us/step - loss: 30.2645\n",
      "Epoch 82/100\n",
      "9/9 [==============================] - 0s 2ms/step - loss: 31.0739\n",
      "Epoch 83/100\n",
      "9/9 [==============================] - 0s 555us/step - loss: 31.1968\n",
      "Epoch 84/100\n",
      "9/9 [==============================] - 0s 666us/step - loss: 31.1815\n",
      "Epoch 85/100\n",
      "9/9 [==============================] - 0s 555us/step - loss: 27.7805\n",
      "Epoch 86/100\n",
      "9/9 [==============================] - 0s 666us/step - loss: 28.9379\n",
      "Epoch 87/100\n",
      "9/9 [==============================] - 0s 555us/step - loss: 27.3257\n",
      "Epoch 88/100\n",
      "9/9 [==============================] - 0s 555us/step - loss: 26.6895\n",
      "Epoch 89/100\n",
      "9/9 [==============================] - 0s 555us/step - loss: 26.4778\n",
      "Epoch 90/100\n",
      "9/9 [==============================] - 0s 666us/step - loss: 25.7677\n",
      "Epoch 91/100\n",
      "9/9 [==============================] - 0s 666us/step - loss: 26.3474\n",
      "Epoch 92/100\n",
      "9/9 [==============================] - 0s 666us/step - loss: 25.2220\n",
      "Epoch 93/100\n",
      "9/9 [==============================] - 0s 777us/step - loss: 25.1374\n",
      "Epoch 94/100\n",
      "9/9 [==============================] - 0s 1ms/step - loss: 25.5850\n",
      "Epoch 95/100\n",
      "9/9 [==============================] - 0s 999us/step - loss: 24.0353\n",
      "Epoch 96/100\n",
      "9/9 [==============================] - 0s 777us/step - loss: 24.0161\n",
      "Epoch 97/100\n",
      "9/9 [==============================] - 0s 666us/step - loss: 23.9901\n",
      "Epoch 98/100\n",
      "9/9 [==============================] - 0s 888us/step - loss: 25.7852\n",
      "Epoch 99/100\n",
      "9/9 [==============================] - 0s 777us/step - loss: 24.9098\n",
      "Epoch 100/100\n",
      "9/9 [==============================] - 0s 777us/step - loss: 23.0707\n"
     ]
    },
    {
     "data": {
      "text/plain": [
       "<tensorflow.python.keras.callbacks.History at 0x2c8b7439190>"
      ]
     },
     "execution_count": 27,
     "metadata": {},
     "output_type": "execute_result"
    }
   ],
   "source": [
    "# Build network\n",
    "model_relu = Sequential()\n",
    "model_relu.add(Dense(60, input_dim=x_train.shape[1], activation='relu')) \n",
    "model_relu.add(Dense(30, activation='relu')) # Hidden 2\n",
    "model_relu.add(Dense(1)) # Output\n",
    "model_relu.compile(loss='mean_squared_error', optimizer='adam')\n",
    "model_relu.fit(x_train,y_train,verbose=1,epochs=100) "
   ]
  },
  {
   "cell_type": "code",
   "execution_count": 28,
   "id": "c8a4a357",
   "metadata": {},
   "outputs": [
    {
     "name": "stdout",
     "output_type": "stream",
     "text": [
      "Shape: (120, 1)\n"
     ]
    }
   ],
   "source": [
    "# Predict MPG\n",
    "pred_nn = model_relu.predict(x_test)\n",
    "print(\"Shape: {}\".format(pred_nn.shape))"
   ]
  },
  {
   "cell_type": "code",
   "execution_count": 29,
   "id": "44a079e3",
   "metadata": {},
   "outputs": [
    {
     "name": "stdout",
     "output_type": "stream",
     "text": [
      "Final score (RMSE): 4.274725437164307\n",
      "R2 score: 0.68\n"
     ]
    }
   ],
   "source": [
    "# Measure RMS error.  RMSE is common for regression.\n",
    "\n",
    "score_nn = np.sqrt(mean_squared_error(y_test,pred_nn))\n",
    "print(\"Final score (RMSE): {}\".format(score_nn))\n",
    "print('R2 score: %.2f' % r2_score(y_test, pred_nn))"
   ]
  },
  {
   "cell_type": "code",
   "execution_count": 58,
   "id": "526d4df8",
   "metadata": {},
   "outputs": [
    {
     "data": {
      "text/plain": [
       "Text(0, 0.5, 'Predicted values for y')"
      ]
     },
     "execution_count": 58,
     "metadata": {},
     "output_type": "execute_result"
    },
    {
     "data": {
      "image/png": "[encoded data removed]",
      "text/plain": [
       "<Figure size 432x288 with 1 Axes>"
      ]
     },
     "metadata": {
      "needs_background": "light"
     },
     "output_type": "display_data"
    }
   ],
   "source": [
    "# Comparing true versus predicted values\n",
    "plt.scatter(y_test, pred_nn, color='black')\n",
    "plt.plot(y_test, y_test, color='blue', linewidth=3)\n",
    "plt.title('Comparing true and predicted values for test set')\n",
    "plt.xlabel('True values for y')\n",
    "plt.ylabel('Predicted values for y')"
   ]
  },
  {
   "cell_type": "code",
   "execution_count": 31,
   "id": "1cba850b",
   "metadata": {},
   "outputs": [
    {
     "data": {
      "image/png": "[encoded data removed]",
      "text/plain": [
       "<Figure size 432x288 with 1 Axes>"
      ]
     },
     "metadata": {
      "needs_background": "light"
     },
     "output_type": "display_data"
    }
   ],
   "source": [
    "#Regression lift Chart\n",
    "chart_regression(pred_nn.flatten(),y_test)"
   ]
  }
 ],
 "metadata": {
  "kernelspec": {
   "display_name": "Python 3",
   "language": "python",
   "name": "python3"
  },
  "language_info": {
   "codemirror_mode": {
    "name": "ipython",
    "version": 3
   },
   "file_extension": ".py",
   "mimetype": "text/x-python",
   "name": "python",
   "nbconvert_exporter": "python",
   "pygments_lexer": "ipython3",
   "version": "3.8.8"
  }
 },
 "nbformat": 4,
 "nbformat_minor": 5
}
